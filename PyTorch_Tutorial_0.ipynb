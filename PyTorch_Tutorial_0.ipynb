{
  "nbformat": 4,
  "nbformat_minor": 0,
  "metadata": {
    "colab": {
      "provenance": [],
      "gpuType": "T4"
    },
    "kernelspec": {
      "name": "python3",
      "display_name": "Python 3"
    },
    "language_info": {
      "name": "python"
    },
    "accelerator": "GPU"
  },
  "cells": [
    {
      "cell_type": "markdown",
      "source": [
        "Tensors can represent almost anything."
      ],
      "metadata": {
        "id": "AUBiBexB5Vom"
      }
    },
    {
      "cell_type": "code",
      "execution_count": 1,
      "metadata": {
        "colab": {
          "base_uri": "https://localhost:8080/",
          "height": 35
        },
        "id": "Mv-EqM6p1jji",
        "outputId": "37bf0b13-a172-4917-b701-3ed4714c9eb1"
      },
      "outputs": [
        {
          "output_type": "execute_result",
          "data": {
            "text/plain": [
              "'2.0.1+cu118'"
            ],
            "application/vnd.google.colaboratory.intrinsic+json": {
              "type": "string"
            }
          },
          "metadata": {},
          "execution_count": 1
        }
      ],
      "source": [
        "import torch\n",
        "torch.__version__"
      ]
    },
    {
      "cell_type": "code",
      "source": [
        "dir(torch)"
      ],
      "metadata": {
        "colab": {
          "base_uri": "https://localhost:8080/"
        },
        "id": "jliq3tTq1pAR",
        "outputId": "2031f4bd-c541-467f-9748-22800da620a6"
      },
      "execution_count": 2,
      "outputs": [
        {
          "output_type": "execute_result",
          "data": {
            "text/plain": [
              "['AVG',\n",
              " 'AggregationType',\n",
              " 'AliasDb',\n",
              " 'Any',\n",
              " 'AnyType',\n",
              " 'Argument',\n",
              " 'ArgumentSpec',\n",
              " 'AwaitType',\n",
              " 'BFloat16Storage',\n",
              " 'BFloat16Tensor',\n",
              " 'BenchmarkConfig',\n",
              " 'BenchmarkExecutionStats',\n",
              " 'Block',\n",
              " 'BoolStorage',\n",
              " 'BoolTensor',\n",
              " 'BoolType',\n",
              " 'BufferDict',\n",
              " 'ByteStorage',\n",
              " 'ByteTensor',\n",
              " 'CallStack',\n",
              " 'Callable',\n",
              " 'Capsule',\n",
              " 'CharStorage',\n",
              " 'CharTensor',\n",
              " 'ClassType',\n",
              " 'Code',\n",
              " 'CompilationUnit',\n",
              " 'CompleteArgumentSpec',\n",
              " 'ComplexDoubleStorage',\n",
              " 'ComplexFloatStorage',\n",
              " 'ComplexType',\n",
              " 'ConcreteModuleType',\n",
              " 'ConcreteModuleTypeBuilder',\n",
              " 'DeepCopyMemoTable',\n",
              " 'DeserializationStorageContext',\n",
              " 'DeviceObjType',\n",
              " 'Dict',\n",
              " 'DictType',\n",
              " 'DisableTorchFunction',\n",
              " 'DisableTorchFunctionSubclass',\n",
              " 'DispatchKey',\n",
              " 'DispatchKeySet',\n",
              " 'DoubleStorage',\n",
              " 'DoubleTensor',\n",
              " 'EnumType',\n",
              " 'ErrorReport',\n",
              " 'ExcludeDispatchKeyGuard',\n",
              " 'ExecutionPlan',\n",
              " 'FatalError',\n",
              " 'FileCheck',\n",
              " 'FloatStorage',\n",
              " 'FloatTensor',\n",
              " 'FloatType',\n",
              " 'FunctionSchema',\n",
              " 'Future',\n",
              " 'FutureType',\n",
              " 'Generator',\n",
              " 'Gradient',\n",
              " 'Graph',\n",
              " 'GraphExecutorState',\n",
              " 'HalfStorage',\n",
              " 'HalfTensor',\n",
              " 'IODescriptor',\n",
              " 'InferredType',\n",
              " 'IntStorage',\n",
              " 'IntTensor',\n",
              " 'IntType',\n",
              " 'InterfaceType',\n",
              " 'JITException',\n",
              " 'ListType',\n",
              " 'LiteScriptModule',\n",
              " 'LockingLogger',\n",
              " 'LoggerBase',\n",
              " 'LongStorage',\n",
              " 'LongTensor',\n",
              " 'ModuleDict',\n",
              " 'Node',\n",
              " 'NoneType',\n",
              " 'NoopLogger',\n",
              " 'NumberType',\n",
              " 'OperatorInfo',\n",
              " 'Optional',\n",
              " 'OptionalType',\n",
              " 'PRIVATE_OPS',\n",
              " 'ParameterDict',\n",
              " 'PyObjectType',\n",
              " 'PyTorchFileReader',\n",
              " 'PyTorchFileWriter',\n",
              " 'QInt32Storage',\n",
              " 'QInt8Storage',\n",
              " 'QUInt2x4Storage',\n",
              " 'QUInt4x2Storage',\n",
              " 'QUInt8Storage',\n",
              " 'RRefType',\n",
              " 'SUM',\n",
              " 'ScriptClass',\n",
              " 'ScriptClassFunction',\n",
              " 'ScriptDict',\n",
              " 'ScriptDictIterator',\n",
              " 'ScriptDictKeyIterator',\n",
              " 'ScriptFunction',\n",
              " 'ScriptList',\n",
              " 'ScriptListIterator',\n",
              " 'ScriptMethod',\n",
              " 'ScriptModule',\n",
              " 'ScriptModuleSerializer',\n",
              " 'ScriptObject',\n",
              " 'ScriptObjectProperty',\n",
              " 'SerializationStorageContext',\n",
              " 'Set',\n",
              " 'ShortStorage',\n",
              " 'ShortTensor',\n",
              " 'Size',\n",
              " 'StaticModule',\n",
              " 'Storage',\n",
              " 'StorageBase',\n",
              " 'Stream',\n",
              " 'StreamObjType',\n",
              " 'StringType',\n",
              " 'SymBool',\n",
              " 'SymFloat',\n",
              " 'SymInt',\n",
              " 'SymIntType',\n",
              " 'TYPE_CHECKING',\n",
              " 'Tag',\n",
              " 'Tensor',\n",
              " 'TensorType',\n",
              " 'ThroughputBenchmark',\n",
              " 'TracingState',\n",
              " 'TupleType',\n",
              " 'Type',\n",
              " 'TypedStorage',\n",
              " 'USE_GLOBAL_DEPS',\n",
              " 'USE_RTLD_GLOBAL_WITH_LIBTORCH',\n",
              " 'Union',\n",
              " 'UnionType',\n",
              " 'UntypedStorage',\n",
              " 'Use',\n",
              " 'Value',\n",
              " '_C',\n",
              " '_GLOBAL_DEVICE_CONTEXT',\n",
              " '_TorchCompileInductorWrapper',\n",
              " '_VF',\n",
              " '__all__',\n",
              " '__annotations__',\n",
              " '__builtins__',\n",
              " '__cached__',\n",
              " '__config__',\n",
              " '__doc__',\n",
              " '__file__',\n",
              " '__future__',\n",
              " '__loader__',\n",
              " '__name__',\n",
              " '__package__',\n",
              " '__path__',\n",
              " '__spec__',\n",
              " '__version__',\n",
              " '_adaptive_avg_pool2d',\n",
              " '_adaptive_avg_pool3d',\n",
              " '_add_batch_dim',\n",
              " '_add_relu',\n",
              " '_add_relu_',\n",
              " '_addmm_activation',\n",
              " '_aminmax',\n",
              " '_amp_foreach_non_finite_check_and_unscale_',\n",
              " '_amp_update_scale_',\n",
              " '_assert',\n",
              " '_assert_async',\n",
              " '_assert_tensor_metadata',\n",
              " '_awaits',\n",
              " '_batch_norm_impl_index',\n",
              " '_cast_Byte',\n",
              " '_cast_Char',\n",
              " '_cast_Double',\n",
              " '_cast_Float',\n",
              " '_cast_Half',\n",
              " '_cast_Int',\n",
              " '_cast_Long',\n",
              " '_cast_Short',\n",
              " '_choose_qparams_per_tensor',\n",
              " '_chunk_grad_outputs_efficient_attention',\n",
              " '_classes',\n",
              " '_coalesce',\n",
              " '_compute_linear_combination',\n",
              " '_conj',\n",
              " '_conj_copy',\n",
              " '_conj_physical',\n",
              " '_convert_indices_from_coo_to_csr',\n",
              " '_convert_indices_from_csr_to_coo',\n",
              " '_convolution',\n",
              " '_convolution_mode',\n",
              " '_copy_from',\n",
              " '_copy_from_and_resize',\n",
              " '_ctc_loss',\n",
              " '_cudnn_ctc_loss',\n",
              " '_cudnn_init_dropout_state',\n",
              " '_cudnn_rnn',\n",
              " '_cudnn_rnn_flatten_weight',\n",
              " '_cufft_clear_plan_cache',\n",
              " '_cufft_get_plan_cache_max_size',\n",
              " '_cufft_get_plan_cache_size',\n",
              " '_cufft_set_plan_cache_max_size',\n",
              " '_cummax_helper',\n",
              " '_cummin_helper',\n",
              " '_debug_has_internal_overlap',\n",
              " '_decomp',\n",
              " '_dim_arange',\n",
              " '_dirichlet_grad',\n",
              " '_disable_functionalization',\n",
              " '_dispatch',\n",
              " '_efficientzerotensor',\n",
              " '_embedding_bag',\n",
              " '_embedding_bag_forward_only',\n",
              " '_empty_affine_quantized',\n",
              " '_empty_per_channel_affine_quantized',\n",
              " '_enable_functionalization',\n",
              " '_euclidean_dist',\n",
              " '_fake_quantize_learnable_per_channel_affine',\n",
              " '_fake_quantize_learnable_per_tensor_affine',\n",
              " '_fake_quantize_per_tensor_affine_cachemask_tensor_qparams',\n",
              " '_fft_c2c',\n",
              " '_fft_c2r',\n",
              " '_fft_r2c',\n",
              " '_foobar',\n",
              " '_foreach_abs',\n",
              " '_foreach_abs_',\n",
              " '_foreach_acos',\n",
              " '_foreach_acos_',\n",
              " '_foreach_add',\n",
              " '_foreach_add_',\n",
              " '_foreach_addcdiv',\n",
              " '_foreach_addcdiv_',\n",
              " '_foreach_addcmul',\n",
              " '_foreach_addcmul_',\n",
              " '_foreach_asin',\n",
              " '_foreach_asin_',\n",
              " '_foreach_atan',\n",
              " '_foreach_atan_',\n",
              " '_foreach_ceil',\n",
              " '_foreach_ceil_',\n",
              " '_foreach_clamp_max',\n",
              " '_foreach_clamp_max_',\n",
              " '_foreach_clamp_min',\n",
              " '_foreach_clamp_min_',\n",
              " '_foreach_cos',\n",
              " '_foreach_cos_',\n",
              " '_foreach_cosh',\n",
              " '_foreach_cosh_',\n",
              " '_foreach_div',\n",
              " '_foreach_div_',\n",
              " '_foreach_erf',\n",
              " '_foreach_erf_',\n",
              " '_foreach_erfc',\n",
              " '_foreach_erfc_',\n",
              " '_foreach_exp',\n",
              " '_foreach_exp_',\n",
              " '_foreach_expm1',\n",
              " '_foreach_expm1_',\n",
              " '_foreach_floor',\n",
              " '_foreach_floor_',\n",
              " '_foreach_frac',\n",
              " '_foreach_frac_',\n",
              " '_foreach_lerp',\n",
              " '_foreach_lerp_',\n",
              " '_foreach_lgamma',\n",
              " '_foreach_lgamma_',\n",
              " '_foreach_log',\n",
              " '_foreach_log10',\n",
              " '_foreach_log10_',\n",
              " '_foreach_log1p',\n",
              " '_foreach_log1p_',\n",
              " '_foreach_log2',\n",
              " '_foreach_log2_',\n",
              " '_foreach_log_',\n",
              " '_foreach_maximum',\n",
              " '_foreach_maximum_',\n",
              " '_foreach_minimum',\n",
              " '_foreach_minimum_',\n",
              " '_foreach_mul',\n",
              " '_foreach_mul_',\n",
              " '_foreach_neg',\n",
              " '_foreach_neg_',\n",
              " '_foreach_norm',\n",
              " '_foreach_reciprocal',\n",
              " '_foreach_reciprocal_',\n",
              " '_foreach_round',\n",
              " '_foreach_round_',\n",
              " '_foreach_sigmoid',\n",
              " '_foreach_sigmoid_',\n",
              " '_foreach_sin',\n",
              " '_foreach_sin_',\n",
              " '_foreach_sinh',\n",
              " '_foreach_sinh_',\n",
              " '_foreach_sqrt',\n",
              " '_foreach_sqrt_',\n",
              " '_foreach_sub',\n",
              " '_foreach_sub_',\n",
              " '_foreach_tan',\n",
              " '_foreach_tan_',\n",
              " '_foreach_tanh',\n",
              " '_foreach_tanh_',\n",
              " '_foreach_trunc',\n",
              " '_foreach_trunc_',\n",
              " '_foreach_zero_',\n",
              " '_freeze_functional_tensor',\n",
              " '_from_functional_tensor',\n",
              " '_functorch',\n",
              " '_fused_adam_',\n",
              " '_fused_adamw_',\n",
              " '_fused_dropout',\n",
              " '_fused_moving_avg_obs_fq_helper',\n",
              " '_fused_sdp_choice',\n",
              " '_fw_primal_copy',\n",
              " '_grid_sampler_2d_cpu_fallback',\n",
              " '_guards',\n",
              " '_has_compatible_shallow_copy_type',\n",
              " '_histogramdd_bin_edges',\n",
              " '_histogramdd_from_bin_cts',\n",
              " '_histogramdd_from_bin_tensors',\n",
              " '_import_dotted_name',\n",
              " '_index_put_impl_',\n",
              " '_indices_copy',\n",
              " '_initExtension',\n",
              " '_is_all_true',\n",
              " '_is_any_true',\n",
              " '_is_functional_tensor',\n",
              " '_is_zerotensor',\n",
              " '_jit_internal',\n",
              " '_linalg_check_errors',\n",
              " '_linalg_det',\n",
              " '_linalg_eigh',\n",
              " '_linalg_slogdet',\n",
              " '_linalg_solve_ex',\n",
              " '_linalg_svd',\n",
              " '_linalg_utils',\n",
              " '_load_global_deps',\n",
              " '_lobpcg',\n",
              " '_log_softmax',\n",
              " '_log_softmax_backward_data',\n",
              " '_logcumsumexp',\n",
              " '_lowrank',\n",
              " '_lstm_mps',\n",
              " '_lu_with_info',\n",
              " '_make_dual',\n",
              " '_make_dual_copy',\n",
              " '_make_per_channel_quantized_tensor',\n",
              " '_make_per_tensor_quantized_tensor',\n",
              " '_masked_scale',\n",
              " '_masked_softmax',\n",
              " '_meta_registrations',\n",
              " '_mkldnn',\n",
              " '_mkldnn_reshape',\n",
              " '_mkldnn_transpose',\n",
              " '_mkldnn_transpose_',\n",
              " '_mps_convolution',\n",
              " '_mps_convolution_transpose',\n",
              " '_namedtensor_internals',\n",
              " '_native_batch_norm_legit',\n",
              " '_native_decoder_only_multi_head_attention',\n",
              " '_native_multi_head_attention',\n",
              " '_neg_view',\n",
              " '_neg_view_copy',\n",
              " '_nested_from_padded',\n",
              " '_nested_from_padded_and_nested_example',\n",
              " '_nested_tensor_from_mask',\n",
              " '_nested_tensor_from_mask_left_aligned',\n",
              " '_nested_tensor_from_tensor_list',\n",
              " '_nested_tensor_softmax_with_shape',\n",
              " '_nnpack_available',\n",
              " '_nnpack_spatial_convolution',\n",
              " '_ops',\n",
              " '_pack_padded_sequence',\n",
              " '_pad_packed_sequence',\n",
              " '_pin_memory',\n",
              " '_preload_cuda_deps',\n",
              " '_prelu_kernel',\n",
              " '_prims',\n",
              " '_prims_common',\n",
              " '_refs',\n",
              " '_register_device_module',\n",
              " '_remove_batch_dim',\n",
              " '_reshape_alias_copy',\n",
              " '_reshape_from_tensor',\n",
              " '_resize_output_',\n",
              " '_rowwise_prune',\n",
              " '_sample_dirichlet',\n",
              " '_saturate_weight_to_fp16',\n",
              " '_scaled_dot_product_attention_math',\n",
              " '_scaled_dot_product_efficient_attention',\n",
              " '_scaled_dot_product_flash_attention',\n",
              " '_segment_reduce',\n",
              " '_shape_as_tensor',\n",
              " '_sobol_engine_draw',\n",
              " '_sobol_engine_ff_',\n",
              " '_sobol_engine_initialize_state_',\n",
              " '_sobol_engine_scramble_',\n",
              " '_softmax',\n",
              " '_softmax_backward_data',\n",
              " '_sources',\n",
              " '_sparse_broadcast_to',\n",
              " '_sparse_broadcast_to_copy',\n",
              " '_sparse_coo_tensor_unsafe',\n",
              " '_sparse_csr_prod',\n",
              " '_sparse_csr_sum',\n",
              " '_sparse_log_softmax_backward_data',\n",
              " '_sparse_softmax_backward_data',\n",
              " '_sparse_sparse_matmul',\n",
              " '_sparse_sum',\n",
              " '_stack',\n",
              " '_standard_gamma',\n",
              " '_standard_gamma_grad',\n",
              " '_storage_classes',\n",
              " '_subclasses',\n",
              " '_sync',\n",
              " '_tensor',\n",
              " '_tensor_classes',\n",
              " '_tensor_str',\n",
              " '_test_autograd_multiple_dispatch',\n",
              " '_test_autograd_multiple_dispatch_view',\n",
              " '_test_autograd_multiple_dispatch_view_copy',\n",
              " '_test_check_tensor',\n",
              " '_test_serialization_subcmul',\n",
              " '_to_cpu',\n",
              " '_to_functional_tensor',\n",
              " '_transform_bias_rescale_qkv',\n",
              " '_transformer_decoder_only_layer_fwd',\n",
              " '_transformer_encoder_layer_fwd',\n",
              " '_trilinear',\n",
              " '_triton_multi_head_attention',\n",
              " '_triton_scaled_dot_attention',\n",
              " '_unique',\n",
              " '_unique2',\n",
              " '_unpack_dual',\n",
              " '_use_cudnn_ctc_loss',\n",
              " '_use_cudnn_rnn_flatten_weight',\n",
              " '_utils',\n",
              " '_utils_internal',\n",
              " '_validate_compressed_sparse_indices',\n",
              " '_validate_sparse_bsc_tensor_args',\n",
              " '_validate_sparse_bsr_tensor_args',\n",
              " '_validate_sparse_compressed_tensor_args',\n",
              " '_validate_sparse_coo_tensor_args',\n",
              " '_validate_sparse_csc_tensor_args',\n",
              " '_validate_sparse_csr_tensor_args',\n",
              " '_values_copy',\n",
              " '_vmap_internals',\n",
              " '_warn_typed_storage_removal',\n",
              " '_weight_norm',\n",
              " '_weight_norm_interface',\n",
              " '_weights_only_unpickler',\n",
              " 'abs',\n",
              " 'abs_',\n",
              " 'absolute',\n",
              " 'acos',\n",
              " 'acos_',\n",
              " 'acosh',\n",
              " 'acosh_',\n",
              " 'adaptive_avg_pool1d',\n",
              " 'adaptive_max_pool1d',\n",
              " 'add',\n",
              " 'addbmm',\n",
              " 'addcdiv',\n",
              " 'addcmul',\n",
              " 'addmm',\n",
              " 'addmv',\n",
              " 'addmv_',\n",
              " 'addr',\n",
              " 'adjoint',\n",
              " 'affine_grid_generator',\n",
              " 'alias_copy',\n",
              " 'align_tensors',\n",
              " 'all',\n",
              " 'allclose',\n",
              " 'alpha_dropout',\n",
              " 'alpha_dropout_',\n",
              " 'amax',\n",
              " 'amin',\n",
              " 'aminmax',\n",
              " 'amp',\n",
              " 'angle',\n",
              " 'any',\n",
              " 'ao',\n",
              " 'arange',\n",
              " 'arccos',\n",
              " 'arccos_',\n",
              " 'arccosh',\n",
              " 'arccosh_',\n",
              " 'arcsin',\n",
              " 'arcsin_',\n",
              " 'arcsinh',\n",
              " 'arcsinh_',\n",
              " 'arctan',\n",
              " 'arctan2',\n",
              " 'arctan_',\n",
              " 'arctanh',\n",
              " 'arctanh_',\n",
              " 'are_deterministic_algorithms_enabled',\n",
              " 'argmax',\n",
              " 'argmin',\n",
              " 'argsort',\n",
              " 'argwhere',\n",
              " 'as_strided',\n",
              " 'as_strided_',\n",
              " 'as_strided_copy',\n",
              " 'as_strided_scatter',\n",
              " 'as_tensor',\n",
              " 'asarray',\n",
              " 'asin',\n",
              " 'asin_',\n",
              " 'asinh',\n",
              " 'asinh_',\n",
              " 'atan',\n",
              " 'atan2',\n",
              " 'atan_',\n",
              " 'atanh',\n",
              " 'atanh_',\n",
              " 'atleast_1d',\n",
              " 'atleast_2d',\n",
              " 'atleast_3d',\n",
              " 'attr',\n",
              " 'autocast',\n",
              " 'autocast_decrement_nesting',\n",
              " 'autocast_increment_nesting',\n",
              " 'autograd',\n",
              " 'avg_pool1d',\n",
              " 'backends',\n",
              " 'baddbmm',\n",
              " 'bartlett_window',\n",
              " 'batch_norm',\n",
              " 'batch_norm_backward_elemt',\n",
              " 'batch_norm_backward_reduce',\n",
              " 'batch_norm_elemt',\n",
              " 'batch_norm_gather_stats',\n",
              " 'batch_norm_gather_stats_with_counts',\n",
              " 'batch_norm_stats',\n",
              " 'batch_norm_update_stats',\n",
              " 'bernoulli',\n",
              " 'bfloat16',\n",
              " 'bilinear',\n",
              " 'binary_cross_entropy_with_logits',\n",
              " 'bincount',\n",
              " 'binomial',\n",
              " 'bitwise_and',\n",
              " 'bitwise_left_shift',\n",
              " 'bitwise_not',\n",
              " 'bitwise_or',\n",
              " 'bitwise_right_shift',\n",
              " 'bitwise_xor',\n",
              " 'blackman_window',\n",
              " 'block_diag',\n",
              " 'bmm',\n",
              " 'bool',\n",
              " 'broadcast_shapes',\n",
              " 'broadcast_tensors',\n",
              " 'broadcast_to',\n",
              " 'bucketize',\n",
              " 'builtins',\n",
              " 'can_cast',\n",
              " 'candidate',\n",
              " 'cartesian_prod',\n",
              " 'cat',\n",
              " 'ccol_indices_copy',\n",
              " 'cdist',\n",
              " 'cdouble',\n",
              " 'ceil',\n",
              " 'ceil_',\n",
              " 'celu',\n",
              " 'celu_',\n",
              " 'cfloat',\n",
              " 'chain_matmul',\n",
              " 'chalf',\n",
              " 'channel_shuffle',\n",
              " 'channels_last',\n",
              " 'channels_last_3d',\n",
              " 'cholesky',\n",
              " 'cholesky_inverse',\n",
              " 'cholesky_solve',\n",
              " 'choose_qparams_optimized',\n",
              " 'chunk',\n",
              " 'clamp',\n",
              " 'clamp_',\n",
              " 'clamp_max',\n",
              " 'clamp_max_',\n",
              " 'clamp_min',\n",
              " 'clamp_min_',\n",
              " 'classes',\n",
              " 'classproperty',\n",
              " 'clear_autocast_cache',\n",
              " 'clip',\n",
              " 'clip_',\n",
              " 'clone',\n",
              " 'col_indices_copy',\n",
              " 'column_stack',\n",
              " 'combinations',\n",
              " 'compile',\n",
              " 'compiled_with_cxx11_abi',\n",
              " 'complex',\n",
              " 'complex128',\n",
              " 'complex32',\n",
              " 'complex64',\n",
              " 'concat',\n",
              " 'concatenate',\n",
              " 'conj',\n",
              " 'conj_physical',\n",
              " 'conj_physical_',\n",
              " 'constant_pad_nd',\n",
              " 'contiguous_format',\n",
              " 'conv1d',\n",
              " 'conv2d',\n",
              " 'conv3d',\n",
              " 'conv_tbc',\n",
              " 'conv_transpose1d',\n",
              " 'conv_transpose2d',\n",
              " 'conv_transpose3d',\n",
              " 'convolution',\n",
              " 'copysign',\n",
              " 'corrcoef',\n",
              " 'cos',\n",
              " 'cos_',\n",
              " 'cosh',\n",
              " 'cosh_',\n",
              " 'cosine_embedding_loss',\n",
              " 'cosine_similarity',\n",
              " 'count_nonzero',\n",
              " 'cov',\n",
              " 'cpp',\n",
              " 'cpu',\n",
              " 'cross',\n",
              " 'crow_indices_copy',\n",
              " 'ctc_loss',\n",
              " 'ctypes',\n",
              " 'cuda',\n",
              " 'cudnn_affine_grid_generator',\n",
              " 'cudnn_batch_norm',\n",
              " 'cudnn_convolution',\n",
              " 'cudnn_convolution_add_relu',\n",
              " 'cudnn_convolution_relu',\n",
              " 'cudnn_convolution_transpose',\n",
              " 'cudnn_grid_sampler',\n",
              " 'cudnn_is_acceptable',\n",
              " 'cummax',\n",
              " 'cummin',\n",
              " 'cumprod',\n",
              " 'cumsum',\n",
              " 'cumulative_trapezoid',\n",
              " 'default_generator',\n",
              " 'deg2rad',\n",
              " 'deg2rad_',\n",
              " 'dequantize',\n",
              " 'det',\n",
              " 'detach',\n",
              " 'detach_',\n",
              " 'detach_copy',\n",
              " 'device',\n",
              " 'diag',\n",
              " 'diag_embed',\n",
              " 'diagflat',\n",
              " 'diagonal',\n",
              " 'diagonal_copy',\n",
              " 'diagonal_scatter',\n",
              " 'diff',\n",
              " 'digamma',\n",
              " 'dist',\n",
              " 'distributed',\n",
              " 'distributions',\n",
              " 'div',\n",
              " 'divide',\n",
              " 'dot',\n",
              " 'double',\n",
              " 'dropout',\n",
              " 'dropout_',\n",
              " 'dsmm',\n",
              " 'dsplit',\n",
              " 'dstack',\n",
              " 'dtype',\n",
              " 'e',\n",
              " 'eig',\n",
              " 'einsum',\n",
              " 'embedding',\n",
              " 'embedding_bag',\n",
              " 'embedding_renorm_',\n",
              " 'empty',\n",
              " 'empty_like',\n",
              " 'empty_quantized',\n",
              " 'empty_strided',\n",
              " 'enable_grad',\n",
              " 'eq',\n",
              " 'equal',\n",
              " 'erf',\n",
              " 'erf_',\n",
              " 'erfc',\n",
              " 'erfc_',\n",
              " 'erfinv',\n",
              " 'exp',\n",
              " 'exp2',\n",
              " 'exp2_',\n",
              " 'exp_',\n",
              " 'expand_copy',\n",
              " 'expm1',\n",
              " 'expm1_',\n",
              " 'eye',\n",
              " 'fake_quantize_per_channel_affine',\n",
              " 'fake_quantize_per_tensor_affine',\n",
              " 'fbgemm_linear_fp16_weight',\n",
              " 'fbgemm_linear_fp16_weight_fp32_activation',\n",
              " 'fbgemm_linear_int8_weight',\n",
              " 'fbgemm_linear_int8_weight_fp32_activation',\n",
              " 'fbgemm_linear_quantize_weight',\n",
              " 'fbgemm_pack_gemm_matrix_fp16',\n",
              " 'fbgemm_pack_quantized_matrix',\n",
              " 'feature_alpha_dropout',\n",
              " 'feature_alpha_dropout_',\n",
              " 'feature_dropout',\n",
              " 'feature_dropout_',\n",
              " 'fft',\n",
              " 'fill',\n",
              " 'fill_',\n",
              " 'finfo',\n",
              " 'fix',\n",
              " 'fix_',\n",
              " 'flatten',\n",
              " 'flip',\n",
              " 'fliplr',\n",
              " 'flipud',\n",
              " 'float',\n",
              " 'float16',\n",
              " 'float32',\n",
              " 'float64',\n",
              " 'float_power',\n",
              " 'floor',\n",
              " 'floor_',\n",
              " 'floor_divide',\n",
              " 'fmax',\n",
              " 'fmin',\n",
              " 'fmod',\n",
              " 'fork',\n",
              " 'frac',\n",
              " 'frac_',\n",
              " 'frexp',\n",
              " 'frobenius_norm',\n",
              " 'from_dlpack',\n",
              " 'from_file',\n",
              " 'from_numpy',\n",
              " 'frombuffer',\n",
              " 'full',\n",
              " 'full_like',\n",
              " 'func',\n",
              " 'functional',\n",
              " 'fused_moving_avg_obs_fake_quant',\n",
              " 'futures',\n",
              " 'fx',\n",
              " 'gather',\n",
              " 'gcd',\n",
              " 'gcd_',\n",
              " 'ge',\n",
              " 'geqrf',\n",
              " 'ger',\n",
              " 'get_autocast_cpu_dtype',\n",
              " 'get_autocast_gpu_dtype',\n",
              " 'get_default_dtype',\n",
              " 'get_deterministic_debug_mode',\n",
              " 'get_device',\n",
              " 'get_file_path',\n",
              " 'get_float32_matmul_precision',\n",
              " 'get_num_interop_threads',\n",
              " 'get_num_threads',\n",
              " 'get_rng_state',\n",
              " 'gradient',\n",
              " 'greater',\n",
              " 'greater_equal',\n",
              " 'grid_sampler',\n",
              " 'grid_sampler_2d',\n",
              " 'grid_sampler_3d',\n",
              " 'group_norm',\n",
              " 'gru',\n",
              " 'gru_cell',\n",
              " 'gt',\n",
              " 'half',\n",
              " 'hamming_window',\n",
              " 'hann_window',\n",
              " 'hardshrink',\n",
              " 'has_cuda',\n",
              " 'has_cudnn',\n",
              " 'has_lapack',\n",
              " 'has_mkl',\n",
              " 'has_mkldnn',\n",
              " 'has_mps',\n",
              " 'has_openmp',\n",
              " 'has_spectral',\n",
              " 'heaviside',\n",
              " 'hinge_embedding_loss',\n",
              " 'histc',\n",
              " 'histogram',\n",
              " 'histogramdd',\n",
              " 'hsmm',\n",
              " 'hsplit',\n",
              " 'hspmm',\n",
              " 'hstack',\n",
              " 'hub',\n",
              " 'hypot',\n",
              " 'i0',\n",
              " 'i0_',\n",
              " 'igamma',\n",
              " 'igammac',\n",
              " 'iinfo',\n",
              " 'imag',\n",
              " 'import_ir_module',\n",
              " 'import_ir_module_from_buffer',\n",
              " 'index_add',\n",
              " 'index_copy',\n",
              " 'index_fill',\n",
              " 'index_put',\n",
              " 'index_put_',\n",
              " 'index_reduce',\n",
              " 'index_select',\n",
              " 'indices_copy',\n",
              " 'inf',\n",
              " 'inference_mode',\n",
              " 'init_num_threads',\n",
              " 'initial_seed',\n",
              " 'inner',\n",
              " 'inspect',\n",
              " 'instance_norm',\n",
              " 'int',\n",
              " 'int16',\n",
              " 'int32',\n",
              " 'int64',\n",
              " 'int8',\n",
              " 'int_repr',\n",
              " 'inverse',\n",
              " 'is_anomaly_check_nan_enabled',\n",
              " 'is_anomaly_enabled',\n",
              " 'is_autocast_cache_enabled',\n",
              " 'is_autocast_cpu_enabled',\n",
              " 'is_autocast_enabled',\n",
              " 'is_complex',\n",
              " 'is_conj',\n",
              " 'is_deterministic_algorithms_warn_only_enabled',\n",
              " 'is_distributed',\n",
              " 'is_floating_point',\n",
              " 'is_grad_enabled',\n",
              " 'is_inference',\n",
              " 'is_inference_mode_enabled',\n",
              " 'is_neg',\n",
              " 'is_nonzero',\n",
              " 'is_same_size',\n",
              " 'is_signed',\n",
              " 'is_storage',\n",
              " 'is_tensor',\n",
              " 'is_vulkan_available',\n",
              " 'is_warn_always_enabled',\n",
              " 'isclose',\n",
              " 'isfinite',\n",
              " 'isin',\n",
              " 'isinf',\n",
              " 'isnan',\n",
              " 'isneginf',\n",
              " 'isposinf',\n",
              " 'isreal',\n",
              " 'istft',\n",
              " 'jit',\n",
              " 'kaiser_window',\n",
              " 'kl_div',\n",
              " 'kron',\n",
              " 'kthvalue',\n",
              " 'layer_norm',\n",
              " 'layout',\n",
              " 'lcm',\n",
              " 'lcm_',\n",
              " 'ldexp',\n",
              " 'ldexp_',\n",
              " 'le',\n",
              " 'legacy_contiguous_format',\n",
              " 'lerp',\n",
              " 'less',\n",
              " 'less_equal',\n",
              " 'lgamma',\n",
              " 'library',\n",
              " 'linalg',\n",
              " 'linspace',\n",
              " 'load',\n",
              " 'lobpcg',\n",
              " 'log',\n",
              " 'log10',\n",
              " 'log10_',\n",
              " 'log1p',\n",
              " 'log1p_',\n",
              " 'log2',\n",
              " 'log2_',\n",
              " 'log_',\n",
              " 'log_softmax',\n",
              " 'logaddexp',\n",
              " 'logaddexp2',\n",
              " 'logcumsumexp',\n",
              " 'logdet',\n",
              " 'logical_and',\n",
              " 'logical_not',\n",
              " 'logical_or',\n",
              " 'logical_xor',\n",
              " 'logit',\n",
              " 'logit_',\n",
              " 'logspace',\n",
              " 'logsumexp',\n",
              " 'long',\n",
              " 'lstm',\n",
              " 'lstm_cell',\n",
              " 'lstsq',\n",
              " 'lt',\n",
              " 'lu',\n",
              " 'lu_solve',\n",
              " 'lu_unpack',\n",
              " 'manual_seed',\n",
              " 'margin_ranking_loss',\n",
              " 'masked',\n",
              " 'masked_fill',\n",
              " 'masked_scatter',\n",
              " 'masked_select',\n",
              " 'math',\n",
              " 'matmul',\n",
              " 'matrix_exp',\n",
              " 'matrix_power',\n",
              " 'matrix_rank',\n",
              " 'max',\n",
              " 'max_pool1d',\n",
              " 'max_pool1d_with_indices',\n",
              " 'max_pool2d',\n",
              " 'max_pool3d',\n",
              " 'maximum',\n",
              " 'mean',\n",
              " 'median',\n",
              " 'memory_format',\n",
              " 'merge_type_from_type_comment',\n",
              " 'meshgrid',\n",
              " 'min',\n",
              " 'minimum',\n",
              " 'miopen_batch_norm',\n",
              " 'miopen_convolution',\n",
              " 'miopen_convolution_add_relu',\n",
              " 'miopen_convolution_relu',\n",
              " 'miopen_convolution_transpose',\n",
              " 'miopen_depthwise_convolution',\n",
              " 'miopen_rnn',\n",
              " 'mkldnn_adaptive_avg_pool2d',\n",
              " 'mkldnn_convolution',\n",
              " 'mkldnn_linear_backward_weights',\n",
              " 'mkldnn_max_pool2d',\n",
              " 'mkldnn_max_pool3d',\n",
              " 'mkldnn_rnn_layer',\n",
              " 'mm',\n",
              " 'mode',\n",
              " 'moveaxis',\n",
              " 'movedim',\n",
              " 'msort',\n",
              " 'mul',\n",
              " 'multinomial',\n",
              " 'multiply',\n",
              " 'multiprocessing',\n",
              " 'mv',\n",
              " 'mvlgamma',\n",
              " 'name',\n",
              " 'nan',\n",
              " 'nan_to_num',\n",
              " 'nan_to_num_',\n",
              " 'nanmean',\n",
              " 'nanmedian',\n",
              " 'nanquantile',\n",
              " 'nansum',\n",
              " 'narrow',\n",
              " 'narrow_copy',\n",
              " 'native_batch_norm',\n",
              " 'native_channel_shuffle',\n",
              " 'native_dropout',\n",
              " 'native_group_norm',\n",
              " 'native_layer_norm',\n",
              " 'native_norm',\n",
              " 'ne',\n",
              " 'neg',\n",
              " 'neg_',\n",
              " 'negative',\n",
              " 'negative_',\n",
              " 'nested',\n",
              " 'nextafter',\n",
              " 'nn',\n",
              " 'no_grad',\n",
              " 'nonzero',\n",
              " 'norm',\n",
              " 'norm_except_dim',\n",
              " 'normal',\n",
              " 'not_equal',\n",
              " 'nuclear_norm',\n",
              " 'numel',\n",
              " 'obj',\n",
              " 'ones',\n",
              " 'ones_like',\n",
              " 'onnx',\n",
              " 'ops',\n",
              " 'optim',\n",
              " 'orgqr',\n",
              " 'ormqr',\n",
              " 'os',\n",
              " ...]"
            ]
          },
          "metadata": {},
          "execution_count": 2
        }
      ]
    },
    {
      "cell_type": "code",
      "source": [
        "# scalar\n",
        "t = torch.tensor(313)"
      ],
      "metadata": {
        "id": "wmaV9Wje1uhs"
      },
      "execution_count": 3,
      "outputs": []
    },
    {
      "cell_type": "code",
      "source": [
        "t"
      ],
      "metadata": {
        "colab": {
          "base_uri": "https://localhost:8080/"
        },
        "id": "tmhZa2v14AsI",
        "outputId": "1352c2a1-294e-4f72-a121-0844789c9cb8"
      },
      "execution_count": 4,
      "outputs": [
        {
          "output_type": "execute_result",
          "data": {
            "text/plain": [
              "tensor(313)"
            ]
          },
          "metadata": {},
          "execution_count": 4
        }
      ]
    },
    {
      "cell_type": "code",
      "source": [
        "t.item()"
      ],
      "metadata": {
        "colab": {
          "base_uri": "https://localhost:8080/"
        },
        "id": "HfZ_9zD-4A5D",
        "outputId": "929a912b-60ff-4ead-d055-da6918bb7014"
      },
      "execution_count": 5,
      "outputs": [
        {
          "output_type": "execute_result",
          "data": {
            "text/plain": [
              "313"
            ]
          },
          "metadata": {},
          "execution_count": 5
        }
      ]
    },
    {
      "cell_type": "code",
      "source": [
        "type(t)"
      ],
      "metadata": {
        "colab": {
          "base_uri": "https://localhost:8080/"
        },
        "id": "pTfkoeYD4COD",
        "outputId": "528fcc25-6c13-422e-b3e9-f190694837e1"
      },
      "execution_count": 6,
      "outputs": [
        {
          "output_type": "execute_result",
          "data": {
            "text/plain": [
              "torch.Tensor"
            ]
          },
          "metadata": {},
          "execution_count": 6
        }
      ]
    },
    {
      "cell_type": "code",
      "source": [
        "t.ndim"
      ],
      "metadata": {
        "colab": {
          "base_uri": "https://localhost:8080/"
        },
        "id": "iwZ3O6114FgV",
        "outputId": "44b76919-dc00-49cf-f95f-4c3dc4c350f5"
      },
      "execution_count": 7,
      "outputs": [
        {
          "output_type": "execute_result",
          "data": {
            "text/plain": [
              "0"
            ]
          },
          "metadata": {},
          "execution_count": 7
        }
      ]
    },
    {
      "cell_type": "code",
      "source": [
        "t.shape"
      ],
      "metadata": {
        "colab": {
          "base_uri": "https://localhost:8080/"
        },
        "id": "NIJjqMGa4G2G",
        "outputId": "240944ad-48fd-4614-9256-8c9926644b38"
      },
      "execution_count": 8,
      "outputs": [
        {
          "output_type": "execute_result",
          "data": {
            "text/plain": [
              "torch.Size([])"
            ]
          },
          "metadata": {},
          "execution_count": 8
        }
      ]
    },
    {
      "cell_type": "code",
      "source": [
        "# vector\n",
        "t = torch.tensor([1,2,3])"
      ],
      "metadata": {
        "id": "00t0tylv4JDG"
      },
      "execution_count": 9,
      "outputs": []
    },
    {
      "cell_type": "code",
      "source": [
        "t.shape"
      ],
      "metadata": {
        "colab": {
          "base_uri": "https://localhost:8080/"
        },
        "id": "0jF4NaMF4Q8u",
        "outputId": "e12f01c7-25fe-4e10-db02-bb4812242891"
      },
      "execution_count": 10,
      "outputs": [
        {
          "output_type": "execute_result",
          "data": {
            "text/plain": [
              "torch.Size([3])"
            ]
          },
          "metadata": {},
          "execution_count": 10
        }
      ]
    },
    {
      "cell_type": "code",
      "source": [
        "type(t)"
      ],
      "metadata": {
        "colab": {
          "base_uri": "https://localhost:8080/"
        },
        "id": "w9_tX2R44VT3",
        "outputId": "e918d9eb-55f3-418b-c6c3-0f59a5e73afa"
      },
      "execution_count": 11,
      "outputs": [
        {
          "output_type": "execute_result",
          "data": {
            "text/plain": [
              "torch.Tensor"
            ]
          },
          "metadata": {},
          "execution_count": 11
        }
      ]
    },
    {
      "cell_type": "code",
      "source": [
        "t.ndim"
      ],
      "metadata": {
        "colab": {
          "base_uri": "https://localhost:8080/"
        },
        "id": "0EsDo_vX4WFd",
        "outputId": "3262c9d0-91f0-4ad2-d0a8-54584ab70524"
      },
      "execution_count": 12,
      "outputs": [
        {
          "output_type": "execute_result",
          "data": {
            "text/plain": [
              "1"
            ]
          },
          "metadata": {},
          "execution_count": 12
        }
      ]
    },
    {
      "cell_type": "code",
      "source": [
        "# does not work as it's only for scalar/0-dim tensors\n",
        "# t.item()"
      ],
      "metadata": {
        "id": "LLS1nmSS4Wge"
      },
      "execution_count": 13,
      "outputs": []
    },
    {
      "cell_type": "code",
      "source": [
        "# we can do this\n",
        "t[0].item()"
      ],
      "metadata": {
        "colab": {
          "base_uri": "https://localhost:8080/"
        },
        "id": "GDonuOfU4YNe",
        "outputId": "fcd3ec29-6587-44f4-aaab-5ee015ac6bcb"
      },
      "execution_count": 14,
      "outputs": [
        {
          "output_type": "execute_result",
          "data": {
            "text/plain": [
              "1"
            ]
          },
          "metadata": {},
          "execution_count": 14
        }
      ]
    },
    {
      "cell_type": "markdown",
      "source": [
        "NOTE: You can tell the number of dimensions a tensor in PyTorch has by the number of square\n",
        "brackets on the outside ([) and you only need to count one side.\n",
        "\n",
        "Another important concept for tensors is their shape attribute. The shape tells you how the\n",
        "elements inside them are arranged."
      ],
      "metadata": {
        "id": "A8qLEH2A4-O-"
      }
    },
    {
      "cell_type": "code",
      "source": [
        "t"
      ],
      "metadata": {
        "colab": {
          "base_uri": "https://localhost:8080/"
        },
        "id": "DCWrg6gR4u7P",
        "outputId": "581f7160-b855-4945-f807-53b7bb98158f"
      },
      "execution_count": 15,
      "outputs": [
        {
          "output_type": "execute_result",
          "data": {
            "text/plain": [
              "tensor([1, 2, 3])"
            ]
          },
          "metadata": {},
          "execution_count": 15
        }
      ]
    },
    {
      "cell_type": "code",
      "source": [
        "t"
      ],
      "metadata": {
        "colab": {
          "base_uri": "https://localhost:8080/"
        },
        "id": "aahpdEYJ4zI9",
        "outputId": "7742f677-f35c-4f4f-bda1-b335aaf7885f"
      },
      "execution_count": 16,
      "outputs": [
        {
          "output_type": "execute_result",
          "data": {
            "text/plain": [
              "tensor([1, 2, 3])"
            ]
          },
          "metadata": {},
          "execution_count": 16
        }
      ]
    },
    {
      "cell_type": "code",
      "source": [
        "t = torch.tensor([[1,2,3],[4,5,6]])"
      ],
      "metadata": {
        "id": "q1zhphJm5Dx6"
      },
      "execution_count": 17,
      "outputs": []
    },
    {
      "cell_type": "code",
      "source": [
        "t"
      ],
      "metadata": {
        "colab": {
          "base_uri": "https://localhost:8080/"
        },
        "id": "Djlzm1NT5Izp",
        "outputId": "eb2c9eb7-20b8-4053-a226-5cecbeaf3174"
      },
      "execution_count": 18,
      "outputs": [
        {
          "output_type": "execute_result",
          "data": {
            "text/plain": [
              "tensor([[1, 2, 3],\n",
              "        [4, 5, 6]])"
            ]
          },
          "metadata": {},
          "execution_count": 18
        }
      ]
    },
    {
      "cell_type": "code",
      "source": [
        "type(t)"
      ],
      "metadata": {
        "colab": {
          "base_uri": "https://localhost:8080/"
        },
        "id": "3sgCO0BR5JES",
        "outputId": "abce3eac-93ab-420f-e494-a471f05e296d"
      },
      "execution_count": 19,
      "outputs": [
        {
          "output_type": "execute_result",
          "data": {
            "text/plain": [
              "torch.Tensor"
            ]
          },
          "metadata": {},
          "execution_count": 19
        }
      ]
    },
    {
      "cell_type": "code",
      "source": [
        "t.ndim"
      ],
      "metadata": {
        "colab": {
          "base_uri": "https://localhost:8080/"
        },
        "id": "5bVoam9M5KDI",
        "outputId": "653d0194-16a8-43ca-daf3-351639bf2b8c"
      },
      "execution_count": 20,
      "outputs": [
        {
          "output_type": "execute_result",
          "data": {
            "text/plain": [
              "2"
            ]
          },
          "metadata": {},
          "execution_count": 20
        }
      ]
    },
    {
      "cell_type": "code",
      "source": [
        "t.shape"
      ],
      "metadata": {
        "colab": {
          "base_uri": "https://localhost:8080/"
        },
        "id": "otXt9DZ05KyZ",
        "outputId": "2ff0abc5-112e-4e22-e293-7f82f0fe3148"
      },
      "execution_count": 21,
      "outputs": [
        {
          "output_type": "execute_result",
          "data": {
            "text/plain": [
              "torch.Size([2, 3])"
            ]
          },
          "metadata": {},
          "execution_count": 21
        }
      ]
    },
    {
      "cell_type": "code",
      "source": [
        "t = torch.tensor([[[1, 2, 3],\n",
        "                  [4, 5, 6]]])"
      ],
      "metadata": {
        "id": "4Ody2k3y5MWq"
      },
      "execution_count": 22,
      "outputs": []
    },
    {
      "cell_type": "code",
      "source": [
        "t.shape # or use t.size()"
      ],
      "metadata": {
        "colab": {
          "base_uri": "https://localhost:8080/"
        },
        "id": "Y97nbp2T5x2i",
        "outputId": "8da5dd7a-3a2f-4c11-d1a4-0e2f3513da75"
      },
      "execution_count": 23,
      "outputs": [
        {
          "output_type": "execute_result",
          "data": {
            "text/plain": [
              "torch.Size([1, 2, 3])"
            ]
          },
          "metadata": {},
          "execution_count": 23
        }
      ]
    },
    {
      "cell_type": "code",
      "source": [
        "t.ndim"
      ],
      "metadata": {
        "colab": {
          "base_uri": "https://localhost:8080/"
        },
        "id": "M5W8JOEy6ITi",
        "outputId": "670dfcdf-023d-41e7-a57b-f3a0b96b07b4"
      },
      "execution_count": 24,
      "outputs": [
        {
          "output_type": "execute_result",
          "data": {
            "text/plain": [
              "3"
            ]
          },
          "metadata": {},
          "execution_count": 24
        }
      ]
    },
    {
      "cell_type": "code",
      "source": [
        "t.size()"
      ],
      "metadata": {
        "colab": {
          "base_uri": "https://localhost:8080/"
        },
        "id": "Xveebnvn6I0j",
        "outputId": "54f5efd6-1396-43f5-9eb0-31fc33fc6c9c"
      },
      "execution_count": 25,
      "outputs": [
        {
          "output_type": "execute_result",
          "data": {
            "text/plain": [
              "torch.Size([1, 2, 3])"
            ]
          },
          "metadata": {},
          "execution_count": 25
        }
      ]
    },
    {
      "cell_type": "markdown",
      "source": [
        "![image.png](data:image/png;base64,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)"
      ],
      "metadata": {
        "id": "rETj4u4y62M5"
      }
    },
    {
      "cell_type": "code",
      "source": [
        "# random tensors\n",
        "t = torch.rand(3)\n",
        "t"
      ],
      "metadata": {
        "colab": {
          "base_uri": "https://localhost:8080/"
        },
        "id": "v_KjbfCl61vk",
        "outputId": "9582e30c-cb0f-4b89-e2ea-bb917b31973c"
      },
      "execution_count": 26,
      "outputs": [
        {
          "output_type": "execute_result",
          "data": {
            "text/plain": [
              "tensor([0.1472, 0.6157, 0.9041])"
            ]
          },
          "metadata": {},
          "execution_count": 26
        }
      ]
    },
    {
      "cell_type": "code",
      "source": [
        "t.shape"
      ],
      "metadata": {
        "colab": {
          "base_uri": "https://localhost:8080/"
        },
        "id": "TqwD60kU7Eyw",
        "outputId": "8d773c29-961a-4902-f192-576aeaa48221"
      },
      "execution_count": 27,
      "outputs": [
        {
          "output_type": "execute_result",
          "data": {
            "text/plain": [
              "torch.Size([3])"
            ]
          },
          "metadata": {},
          "execution_count": 27
        }
      ]
    },
    {
      "cell_type": "code",
      "source": [
        "t.ndim"
      ],
      "metadata": {
        "colab": {
          "base_uri": "https://localhost:8080/"
        },
        "id": "gP21tSQk7etu",
        "outputId": "a0aaf644-8018-42e8-bcce-3345f0854e04"
      },
      "execution_count": 28,
      "outputs": [
        {
          "output_type": "execute_result",
          "data": {
            "text/plain": [
              "1"
            ]
          },
          "metadata": {},
          "execution_count": 28
        }
      ]
    },
    {
      "cell_type": "code",
      "source": [
        "t.dtype"
      ],
      "metadata": {
        "colab": {
          "base_uri": "https://localhost:8080/"
        },
        "id": "D__4wX0P7fFl",
        "outputId": "f5e618a6-4565-4b1c-f2fd-57783216b0ea"
      },
      "execution_count": 29,
      "outputs": [
        {
          "output_type": "execute_result",
          "data": {
            "text/plain": [
              "torch.float32"
            ]
          },
          "metadata": {},
          "execution_count": 29
        }
      ]
    },
    {
      "cell_type": "code",
      "source": [
        "t = torch.rand((3,224,224))\n",
        "t"
      ],
      "metadata": {
        "colab": {
          "base_uri": "https://localhost:8080/"
        },
        "id": "vegOAVnF7gDj",
        "outputId": "bf90344d-ec3a-446b-9925-a5c88fd90d69"
      },
      "execution_count": 30,
      "outputs": [
        {
          "output_type": "execute_result",
          "data": {
            "text/plain": [
              "tensor([[[0.3612, 0.9925, 0.6119,  ..., 0.0367, 0.6955, 0.7318],\n",
              "         [0.0404, 0.6940, 0.9793,  ..., 0.1872, 0.4668, 0.9661],\n",
              "         [0.8142, 0.8779, 0.8490,  ..., 0.2760, 0.3143, 0.9212],\n",
              "         ...,\n",
              "         [0.7304, 0.2613, 0.0546,  ..., 0.9104, 0.6392, 0.1009],\n",
              "         [0.6446, 0.4142, 0.3149,  ..., 0.2916, 0.3655, 0.1382],\n",
              "         [0.5738, 0.1994, 0.8289,  ..., 0.1198, 0.8232, 0.8438]],\n",
              "\n",
              "        [[0.7041, 0.9478, 0.2893,  ..., 0.2525, 0.3477, 0.0115],\n",
              "         [0.8376, 0.1133, 0.6611,  ..., 0.9506, 0.9871, 0.6884],\n",
              "         [0.6298, 0.1094, 0.2007,  ..., 0.2234, 0.4553, 0.2373],\n",
              "         ...,\n",
              "         [0.8708, 0.6218, 0.1946,  ..., 0.1008, 0.4198, 0.9837],\n",
              "         [0.8506, 0.2069, 0.5490,  ..., 0.6281, 0.3595, 0.0277],\n",
              "         [0.7037, 0.2919, 0.4210,  ..., 0.7747, 0.0314, 0.1402]],\n",
              "\n",
              "        [[0.7308, 0.3084, 0.9125,  ..., 0.8952, 0.6234, 0.3446],\n",
              "         [0.1989, 0.6923, 0.8131,  ..., 0.8141, 0.7457, 0.3047],\n",
              "         [0.8334, 0.3235, 0.8822,  ..., 0.0205, 0.9266, 0.7570],\n",
              "         ...,\n",
              "         [0.8499, 0.0410, 0.1607,  ..., 0.0318, 0.0361, 0.8319],\n",
              "         [0.6222, 0.5547, 0.9471,  ..., 0.7775, 0.9197, 0.1842],\n",
              "         [0.6999, 0.0860, 0.5148,  ..., 0.0736, 0.5230, 0.1798]]])"
            ]
          },
          "metadata": {},
          "execution_count": 30
        }
      ]
    },
    {
      "cell_type": "code",
      "source": [
        "t.ndim"
      ],
      "metadata": {
        "colab": {
          "base_uri": "https://localhost:8080/"
        },
        "id": "kxJOpawt7k1C",
        "outputId": "5f4e4e05-36d9-4c42-8464-5ff8b0fb0a14"
      },
      "execution_count": 31,
      "outputs": [
        {
          "output_type": "execute_result",
          "data": {
            "text/plain": [
              "3"
            ]
          },
          "metadata": {},
          "execution_count": 31
        }
      ]
    },
    {
      "cell_type": "code",
      "source": [
        "t.shape # or use t.size()"
      ],
      "metadata": {
        "colab": {
          "base_uri": "https://localhost:8080/"
        },
        "id": "S2g7kKv27m4U",
        "outputId": "a5401944-e160-4203-a909-713b497cd813"
      },
      "execution_count": 32,
      "outputs": [
        {
          "output_type": "execute_result",
          "data": {
            "text/plain": [
              "torch.Size([3, 224, 224])"
            ]
          },
          "metadata": {},
          "execution_count": 32
        }
      ]
    },
    {
      "cell_type": "code",
      "source": [
        "t = torch.zeros(3,4)\n",
        "t"
      ],
      "metadata": {
        "colab": {
          "base_uri": "https://localhost:8080/"
        },
        "id": "kq6rCcgk7nX4",
        "outputId": "ec57f444-fe29-4990-d9c3-61ea7fe2bff1"
      },
      "execution_count": 33,
      "outputs": [
        {
          "output_type": "execute_result",
          "data": {
            "text/plain": [
              "tensor([[0., 0., 0., 0.],\n",
              "        [0., 0., 0., 0.],\n",
              "        [0., 0., 0., 0.]])"
            ]
          },
          "metadata": {},
          "execution_count": 33
        }
      ]
    },
    {
      "cell_type": "code",
      "source": [
        "t.ndim"
      ],
      "metadata": {
        "colab": {
          "base_uri": "https://localhost:8080/"
        },
        "id": "BljNC-o77pYL",
        "outputId": "4025bc54-9c7e-475f-e761-ae4169af04cd"
      },
      "execution_count": 34,
      "outputs": [
        {
          "output_type": "execute_result",
          "data": {
            "text/plain": [
              "2"
            ]
          },
          "metadata": {},
          "execution_count": 34
        }
      ]
    },
    {
      "cell_type": "code",
      "source": [
        "t.shape"
      ],
      "metadata": {
        "colab": {
          "base_uri": "https://localhost:8080/"
        },
        "id": "ugRILQva8EYn",
        "outputId": "01b2de2d-8db6-4e42-ea90-66f27d1a849a"
      },
      "execution_count": 35,
      "outputs": [
        {
          "output_type": "execute_result",
          "data": {
            "text/plain": [
              "torch.Size([3, 4])"
            ]
          },
          "metadata": {},
          "execution_count": 35
        }
      ]
    },
    {
      "cell_type": "code",
      "source": [
        "t.size()"
      ],
      "metadata": {
        "colab": {
          "base_uri": "https://localhost:8080/"
        },
        "id": "BS-TKF6W8Ex_",
        "outputId": "029150fd-85c2-46ea-be48-d4463fc04948"
      },
      "execution_count": 36,
      "outputs": [
        {
          "output_type": "execute_result",
          "data": {
            "text/plain": [
              "torch.Size([3, 4])"
            ]
          },
          "metadata": {},
          "execution_count": 36
        }
      ]
    },
    {
      "cell_type": "code",
      "source": [
        "t.dtype"
      ],
      "metadata": {
        "colab": {
          "base_uri": "https://localhost:8080/"
        },
        "id": "elSYLe9x8Ffs",
        "outputId": "4966e126-1bae-4202-969f-395ad597d9ff"
      },
      "execution_count": 37,
      "outputs": [
        {
          "output_type": "execute_result",
          "data": {
            "text/plain": [
              "torch.float32"
            ]
          },
          "metadata": {},
          "execution_count": 37
        }
      ]
    },
    {
      "cell_type": "code",
      "source": [
        "t = torch.ones(3,4)\n",
        "t"
      ],
      "metadata": {
        "colab": {
          "base_uri": "https://localhost:8080/"
        },
        "id": "tQjEzjVT8HBN",
        "outputId": "584718b6-4564-4c7f-c899-0c4cde05ded6"
      },
      "execution_count": 38,
      "outputs": [
        {
          "output_type": "execute_result",
          "data": {
            "text/plain": [
              "tensor([[1., 1., 1., 1.],\n",
              "        [1., 1., 1., 1.],\n",
              "        [1., 1., 1., 1.]])"
            ]
          },
          "metadata": {},
          "execution_count": 38
        }
      ]
    },
    {
      "cell_type": "code",
      "source": [
        "t.ndim"
      ],
      "metadata": {
        "colab": {
          "base_uri": "https://localhost:8080/"
        },
        "id": "KTOH49fW8K3R",
        "outputId": "10ed9b78-cb39-4ac5-996b-3785e82d2297"
      },
      "execution_count": 39,
      "outputs": [
        {
          "output_type": "execute_result",
          "data": {
            "text/plain": [
              "2"
            ]
          },
          "metadata": {},
          "execution_count": 39
        }
      ]
    },
    {
      "cell_type": "code",
      "source": [
        "t.shape"
      ],
      "metadata": {
        "colab": {
          "base_uri": "https://localhost:8080/"
        },
        "id": "1wETaKpm8LY9",
        "outputId": "c6ee7032-e5da-4a5e-ce41-d8cd525ab456"
      },
      "execution_count": 40,
      "outputs": [
        {
          "output_type": "execute_result",
          "data": {
            "text/plain": [
              "torch.Size([3, 4])"
            ]
          },
          "metadata": {},
          "execution_count": 40
        }
      ]
    },
    {
      "cell_type": "code",
      "source": [
        "t.size()"
      ],
      "metadata": {
        "colab": {
          "base_uri": "https://localhost:8080/"
        },
        "id": "LfBiVpq88Lya",
        "outputId": "6bbabb48-d742-4f12-d934-72bef96cc6dd"
      },
      "execution_count": 41,
      "outputs": [
        {
          "output_type": "execute_result",
          "data": {
            "text/plain": [
              "torch.Size([3, 4])"
            ]
          },
          "metadata": {},
          "execution_count": 41
        }
      ]
    },
    {
      "cell_type": "code",
      "source": [
        "t.dtype"
      ],
      "metadata": {
        "colab": {
          "base_uri": "https://localhost:8080/"
        },
        "id": "KILr36jR8Mji",
        "outputId": "5e765afb-b31b-429a-fbef-2187a803bd67"
      },
      "execution_count": 42,
      "outputs": [
        {
          "output_type": "execute_result",
          "data": {
            "text/plain": [
              "torch.float32"
            ]
          },
          "metadata": {},
          "execution_count": 42
        }
      ]
    },
    {
      "cell_type": "code",
      "source": [
        "# convert to another datatype\n",
        "t = t.to(dtype=torch.int64) # to is not inplace so assign to a var"
      ],
      "metadata": {
        "id": "anYu6x_l8O8y"
      },
      "execution_count": 43,
      "outputs": []
    },
    {
      "cell_type": "code",
      "source": [
        "t.dtype"
      ],
      "metadata": {
        "colab": {
          "base_uri": "https://localhost:8080/"
        },
        "id": "5uqF5VS98U4h",
        "outputId": "9b57fbc2-3a87-4253-8f21-ad5569f6de3a"
      },
      "execution_count": 44,
      "outputs": [
        {
          "output_type": "execute_result",
          "data": {
            "text/plain": [
              "torch.int64"
            ]
          },
          "metadata": {},
          "execution_count": 44
        }
      ]
    },
    {
      "cell_type": "code",
      "source": [
        "# range tensors\n",
        "t = torch.arange(0,10,1)\n",
        "t"
      ],
      "metadata": {
        "colab": {
          "base_uri": "https://localhost:8080/"
        },
        "id": "fZj2rAfs8XAS",
        "outputId": "b3db5042-dda7-4cd7-e78d-e0966a6c18ad"
      },
      "execution_count": 45,
      "outputs": [
        {
          "output_type": "execute_result",
          "data": {
            "text/plain": [
              "tensor([0, 1, 2, 3, 4, 5, 6, 7, 8, 9])"
            ]
          },
          "metadata": {},
          "execution_count": 45
        }
      ]
    },
    {
      "cell_type": "code",
      "source": [
        "t.ndim, t.shape, t.size(), t.dtype"
      ],
      "metadata": {
        "colab": {
          "base_uri": "https://localhost:8080/"
        },
        "id": "ZFO-J7Q88jdp",
        "outputId": "f2bf3fb9-7b9b-440f-f49a-60ee80371b95"
      },
      "execution_count": 46,
      "outputs": [
        {
          "output_type": "execute_result",
          "data": {
            "text/plain": [
              "(1, torch.Size([10]), torch.Size([10]), torch.int64)"
            ]
          },
          "metadata": {},
          "execution_count": 46
        }
      ]
    },
    {
      "cell_type": "code",
      "source": [
        "# using range (use arange)\n",
        "t = torch.range(0,10,1)\n",
        "t"
      ],
      "metadata": {
        "colab": {
          "base_uri": "https://localhost:8080/"
        },
        "id": "qSPInq2r8sYq",
        "outputId": "6b89c1ed-f856-46ed-fc21-95a09ba2f33c"
      },
      "execution_count": 47,
      "outputs": [
        {
          "output_type": "stream",
          "name": "stderr",
          "text": [
            "<ipython-input-47-f99bc1f6bf73>:2: UserWarning: torch.range is deprecated and will be removed in a future release because its behavior is inconsistent with Python's range builtin. Instead, use torch.arange, which produces values in [start, end).\n",
            "  t = torch.range(0,10,1)\n"
          ]
        },
        {
          "output_type": "execute_result",
          "data": {
            "text/plain": [
              "tensor([ 0.,  1.,  2.,  3.,  4.,  5.,  6.,  7.,  8.,  9., 10.])"
            ]
          },
          "metadata": {},
          "execution_count": 47
        }
      ]
    },
    {
      "cell_type": "code",
      "source": [
        "# Sometimes you might want one tensor of a certain type with the same shape as another tensor.\n",
        "t = torch.zeros_like(torch.rand(5,4), dtype=torch.cfloat)\n",
        "t"
      ],
      "metadata": {
        "colab": {
          "base_uri": "https://localhost:8080/"
        },
        "id": "0agk_3WO8350",
        "outputId": "6b9f07b4-f4c9-4a9c-d04b-4929169c101a"
      },
      "execution_count": 48,
      "outputs": [
        {
          "output_type": "execute_result",
          "data": {
            "text/plain": [
              "tensor([[0.+0.j, 0.+0.j, 0.+0.j, 0.+0.j],\n",
              "        [0.+0.j, 0.+0.j, 0.+0.j, 0.+0.j],\n",
              "        [0.+0.j, 0.+0.j, 0.+0.j, 0.+0.j],\n",
              "        [0.+0.j, 0.+0.j, 0.+0.j, 0.+0.j],\n",
              "        [0.+0.j, 0.+0.j, 0.+0.j, 0.+0.j]])"
            ]
          },
          "metadata": {},
          "execution_count": 48
        }
      ]
    },
    {
      "cell_type": "code",
      "source": [
        "t.ndim, t.shape, t.size(), t.dtype"
      ],
      "metadata": {
        "colab": {
          "base_uri": "https://localhost:8080/"
        },
        "id": "bf482PRw9Kzz",
        "outputId": "7a5cee67-ea2f-4215-8bae-4dc76d343e95"
      },
      "execution_count": 49,
      "outputs": [
        {
          "output_type": "execute_result",
          "data": {
            "text/plain": [
              "(2, torch.Size([5, 4]), torch.Size([5, 4]), torch.complex64)"
            ]
          },
          "metadata": {},
          "execution_count": 49
        }
      ]
    },
    {
      "cell_type": "code",
      "source": [
        "# There are many different tensor datatypes available in PyTorch.\n",
        "# Some are specific for CPU and some are better for GPU.\n",
        "# https://pytorch.org/docs/stable/tensors.html"
      ],
      "metadata": {
        "id": "ppTAk7UP9Z-h"
      },
      "execution_count": 50,
      "outputs": []
    },
    {
      "cell_type": "code",
      "source": [
        "t.requires_grad # if True, operations performed on the tensor are recorded"
      ],
      "metadata": {
        "colab": {
          "base_uri": "https://localhost:8080/"
        },
        "id": "AazlC5TJ-AU0",
        "outputId": "737edc61-ea38-4a4a-ab9c-a097ef96b824"
      },
      "execution_count": 51,
      "outputs": [
        {
          "output_type": "execute_result",
          "data": {
            "text/plain": [
              "False"
            ]
          },
          "metadata": {},
          "execution_count": 51
        }
      ]
    },
    {
      "cell_type": "code",
      "source": [
        "t.device"
      ],
      "metadata": {
        "colab": {
          "base_uri": "https://localhost:8080/"
        },
        "id": "XCoB7wpR-awo",
        "outputId": "1e50f2d0-2351-4755-bc88-b65848c66f3a"
      },
      "execution_count": 52,
      "outputs": [
        {
          "output_type": "execute_result",
          "data": {
            "text/plain": [
              "device(type='cpu')"
            ]
          },
          "metadata": {},
          "execution_count": 52
        }
      ]
    },
    {
      "cell_type": "code",
      "source": [
        "torch.cuda.is_available()"
      ],
      "metadata": {
        "colab": {
          "base_uri": "https://localhost:8080/"
        },
        "id": "E8rMLzjM-lq7",
        "outputId": "3e190414-622f-4e58-ab1f-366384f06c50"
      },
      "execution_count": 53,
      "outputs": [
        {
          "output_type": "execute_result",
          "data": {
            "text/plain": [
              "True"
            ]
          },
          "metadata": {},
          "execution_count": 53
        }
      ]
    },
    {
      "cell_type": "markdown",
      "source": [
        "Two of the other most common\n",
        "issues you'll come across in PyTorch are datatype and device issues.<br>\n",
        "For example, one of tensors is torch.float32 and the other is torch.float16 (PyTorch often likes tensors to be the same format).<br>\n",
        "Or one of your tensors is on the CPU and the other is on the GPU (PyTorch likes calculations between tensors to be on the same device)."
      ],
      "metadata": {
        "id": "bZbJb9EQ-2NJ"
      }
    },
    {
      "cell_type": "code",
      "source": [],
      "metadata": {
        "id": "PaXorsNO_YSp"
      },
      "execution_count": 53,
      "outputs": []
    },
    {
      "cell_type": "markdown",
      "source": [
        "Note: When you run into issues in PyTorch, it's very often one to do with one of the three attributes below.\n",
        "Check \"what, what, where\"\n",
        "\n",
        "```\n",
        "print(f\"Shape of tensor: {some_tensor.shape}\")\n",
        "print(f\"Datatype of tensor: {some_tensor.dtype}\")\n",
        "print(f\"Device tensor is stored on: {some_tensor.device}\") # by default CPU\n",
        "```"
      ],
      "metadata": {
        "id": "kxOBOj5o_a1s"
      }
    },
    {
      "cell_type": "code",
      "source": [
        "t = torch.tensor([1,2,3])\n",
        "t"
      ],
      "metadata": {
        "colab": {
          "base_uri": "https://localhost:8080/"
        },
        "id": "P4kZ34-T-pJ5",
        "outputId": "1f93b827-1cca-4f2d-8bf6-776a392ffdd2"
      },
      "execution_count": 54,
      "outputs": [
        {
          "output_type": "execute_result",
          "data": {
            "text/plain": [
              "tensor([1, 2, 3])"
            ]
          },
          "metadata": {},
          "execution_count": 54
        }
      ]
    },
    {
      "cell_type": "markdown",
      "source": [
        "All arithmetic operations below are element-wise"
      ],
      "metadata": {
        "id": "1nEgcJ_wAWrW"
      }
    },
    {
      "cell_type": "code",
      "source": [
        "t+1"
      ],
      "metadata": {
        "colab": {
          "base_uri": "https://localhost:8080/"
        },
        "id": "llguKOqC-1zc",
        "outputId": "5a1611c8-f7f7-4d63-8626-ab1828763d60"
      },
      "execution_count": 55,
      "outputs": [
        {
          "output_type": "execute_result",
          "data": {
            "text/plain": [
              "tensor([2, 3, 4])"
            ]
          },
          "metadata": {},
          "execution_count": 55
        }
      ]
    },
    {
      "cell_type": "code",
      "source": [
        "torch.add(t,1)"
      ],
      "metadata": {
        "colab": {
          "base_uri": "https://localhost:8080/"
        },
        "id": "bA6w7XxdAIla",
        "outputId": "f73598c6-5c38-4c97-986a-397595eb15f5"
      },
      "execution_count": 56,
      "outputs": [
        {
          "output_type": "execute_result",
          "data": {
            "text/plain": [
              "tensor([2, 3, 4])"
            ]
          },
          "metadata": {},
          "execution_count": 56
        }
      ]
    },
    {
      "cell_type": "code",
      "source": [
        "t*313"
      ],
      "metadata": {
        "colab": {
          "base_uri": "https://localhost:8080/"
        },
        "id": "TUQmKwG1_-Ho",
        "outputId": "a4fd9982-c87e-4754-b360-99d7a7154045"
      },
      "execution_count": 57,
      "outputs": [
        {
          "output_type": "execute_result",
          "data": {
            "text/plain": [
              "tensor([313, 626, 939])"
            ]
          },
          "metadata": {},
          "execution_count": 57
        }
      ]
    },
    {
      "cell_type": "code",
      "source": [
        "torch.mul(t,313)"
      ],
      "metadata": {
        "colab": {
          "base_uri": "https://localhost:8080/"
        },
        "id": "Xe38bs1GALhn",
        "outputId": "980fd7f0-d478-4d69-b114-f04e0522a487"
      },
      "execution_count": 58,
      "outputs": [
        {
          "output_type": "execute_result",
          "data": {
            "text/plain": [
              "tensor([313, 626, 939])"
            ]
          },
          "metadata": {},
          "execution_count": 58
        }
      ]
    },
    {
      "cell_type": "code",
      "source": [
        "t-10"
      ],
      "metadata": {
        "colab": {
          "base_uri": "https://localhost:8080/"
        },
        "id": "qYWJ_FBlAAin",
        "outputId": "91216a1d-ba62-4d8d-8ebf-9a81e2b02c15"
      },
      "execution_count": 59,
      "outputs": [
        {
          "output_type": "execute_result",
          "data": {
            "text/plain": [
              "tensor([-9, -8, -7])"
            ]
          },
          "metadata": {},
          "execution_count": 59
        }
      ]
    },
    {
      "cell_type": "code",
      "source": [
        "torch.sub(t,10)"
      ],
      "metadata": {
        "colab": {
          "base_uri": "https://localhost:8080/"
        },
        "id": "YruRnGauAFUf",
        "outputId": "5f2f1aa5-a981-4373-cddf-8f6b31244d09"
      },
      "execution_count": 60,
      "outputs": [
        {
          "output_type": "execute_result",
          "data": {
            "text/plain": [
              "tensor([-9, -8, -7])"
            ]
          },
          "metadata": {},
          "execution_count": 60
        }
      ]
    },
    {
      "cell_type": "code",
      "source": [
        "t/110"
      ],
      "metadata": {
        "colab": {
          "base_uri": "https://localhost:8080/"
        },
        "id": "A07BusnHAPt_",
        "outputId": "e54aba0d-7f51-4efe-f1b4-d641a45edb0d"
      },
      "execution_count": 61,
      "outputs": [
        {
          "output_type": "execute_result",
          "data": {
            "text/plain": [
              "tensor([0.0091, 0.0182, 0.0273])"
            ]
          },
          "metadata": {},
          "execution_count": 61
        }
      ]
    },
    {
      "cell_type": "code",
      "source": [
        "torch.div(t,110)"
      ],
      "metadata": {
        "colab": {
          "base_uri": "https://localhost:8080/"
        },
        "id": "hYFNa9ukAeo3",
        "outputId": "de71785a-8a1d-43b4-e9a9-2d1237944343"
      },
      "execution_count": 62,
      "outputs": [
        {
          "output_type": "execute_result",
          "data": {
            "text/plain": [
              "tensor([0.0091, 0.0182, 0.0273])"
            ]
          },
          "metadata": {},
          "execution_count": 62
        }
      ]
    },
    {
      "cell_type": "markdown",
      "source": [
        "Matrix multiplication - torch.matmul()<br>\n",
        "The main two rules for matrix multiplication to remember are:\n",
        "1. The inner dimensions must match\n",
        "2. The resulting matrix has the shape of the outer dimensions\n",
        "\n",
        "Note: \"@\" in Python is the symbol for matrix multiplication."
      ],
      "metadata": {
        "id": "DmNIwIddA6Xx"
      }
    },
    {
      "cell_type": "code",
      "source": [
        "A = torch.rand(3,1)\n",
        "A"
      ],
      "metadata": {
        "colab": {
          "base_uri": "https://localhost:8080/"
        },
        "id": "zgoMBNGxA6wd",
        "outputId": "8513e958-6745-47b6-a01c-5db3f25b029a"
      },
      "execution_count": 63,
      "outputs": [
        {
          "output_type": "execute_result",
          "data": {
            "text/plain": [
              "tensor([[0.6883],\n",
              "        [0.9454],\n",
              "        [0.4751]])"
            ]
          },
          "metadata": {},
          "execution_count": 63
        }
      ]
    },
    {
      "cell_type": "code",
      "source": [
        "B = torch.rand(1,4)\n",
        "B"
      ],
      "metadata": {
        "colab": {
          "base_uri": "https://localhost:8080/"
        },
        "id": "lapr_sofBIf5",
        "outputId": "18e9492b-8f9c-4365-8d49-576153630960"
      },
      "execution_count": 64,
      "outputs": [
        {
          "output_type": "execute_result",
          "data": {
            "text/plain": [
              "tensor([[0.5357, 0.9908, 0.5662, 0.4425]])"
            ]
          },
          "metadata": {},
          "execution_count": 64
        }
      ]
    },
    {
      "cell_type": "code",
      "source": [
        "torch.matmul(A,B)"
      ],
      "metadata": {
        "colab": {
          "base_uri": "https://localhost:8080/"
        },
        "id": "mNQUmJG8BK9P",
        "outputId": "f7bcb3e0-c827-4803-f811-42e282f5d718"
      },
      "execution_count": 65,
      "outputs": [
        {
          "output_type": "execute_result",
          "data": {
            "text/plain": [
              "tensor([[0.3687, 0.6820, 0.3897, 0.3046],\n",
              "        [0.5064, 0.9367, 0.5352, 0.4183],\n",
              "        [0.2545, 0.4708, 0.2690, 0.2102]])"
            ]
          },
          "metadata": {},
          "execution_count": 65
        }
      ]
    },
    {
      "cell_type": "code",
      "source": [
        "A@B"
      ],
      "metadata": {
        "colab": {
          "base_uri": "https://localhost:8080/"
        },
        "id": "P6zDEL5RBMvG",
        "outputId": "ba396805-1bef-4c56-f2a2-6d26e98b722d"
      },
      "execution_count": 66,
      "outputs": [
        {
          "output_type": "execute_result",
          "data": {
            "text/plain": [
              "tensor([[0.3687, 0.6820, 0.3897, 0.3046],\n",
              "        [0.5064, 0.9367, 0.5352, 0.4183],\n",
              "        [0.2545, 0.4708, 0.2690, 0.2102]])"
            ]
          },
          "metadata": {},
          "execution_count": 66
        }
      ]
    },
    {
      "cell_type": "markdown",
      "source": [
        "Reshape vs View \\\\\n",
        "Reshaping tensors with view \\\\\n",
        "The view function in PyTorch is very similar to reshape, but there are a few key differences. Like reshape, view allows you to change the shape of a tensor while keeping its elements intact. However, there are two main differences:\n",
        "\n",
        "The view function returns a view of the original tensor, rather than creating a new tensor. This means that the data in the tensor is not copied, and any changes made to the view will be reflected in the original tensor. \\\\\n",
        "\n",
        "The view function is more flexible than reshape in terms of the shapes it can produce. view can create tensors with any shape, as long as the total number of elements remains the same. \\\\\n",
        "\n",
        "Which function should you use? \\\\\n",
        "So, when should you use reshape, and when should you use view? Here are a few guidelines:\n",
        "\n",
        "If you need to create a new tensor with a different shape, use reshape. This is useful when you want to create a new tensor that represents the same data in a different way.\n",
        "\n",
        "If you want to create a “window” into an existing tensor, use view. This is useful when you want to manipulate parts of a tensor without copying the data.\n",
        "\n",
        "If you’re not sure which one to use, try view first. If it doesn’t work, you can always fall back on reshape.\n",
        "\n",
        "It’s worth noting that while view is more flexible than reshape, it does have some limitations."
      ],
      "metadata": {
        "id": "q8FW6OeyDK_5"
      }
    },
    {
      "cell_type": "markdown",
      "source": [
        "One of the most common errors in deep learning (shape errors) \\\\\n",
        "Because much of deep learning is multiplying and performing operations on matrices and\n",
        "matrices have a strict rule about what shapes and sizes can be combined, one of the most\n",
        "common errors you'll run into in deep learning is shape mismatches."
      ],
      "metadata": {
        "id": "g6UCzmSgGW0X"
      }
    },
    {
      "cell_type": "code",
      "source": [
        "# bad case for matrix mul\n",
        "B = B.view(4,1)"
      ],
      "metadata": {
        "id": "p-gTzEWrBPrG"
      },
      "execution_count": 67,
      "outputs": []
    },
    {
      "cell_type": "code",
      "source": [
        "# A@B\n",
        "# RuntimeError: mat1 and mat2 shapes cannot be multiplied (3x1 and 4x1)"
      ],
      "metadata": {
        "id": "1fHtf4mWBYq7"
      },
      "execution_count": 68,
      "outputs": []
    },
    {
      "cell_type": "markdown",
      "source": [
        "The difference between element-wise multiplication and matrix multiplication is the addition\n",
        "of values. \\\\\n",
        "For our tensor variable with values [1, 2, 3]: \\\\\n",
        "Element-wise multiplication [1*1, 2*2, 3*3] = [1, 4, 9] tensor * tensor \\\\\n",
        "Matrix multiplication [1*1 + 2*2 + 3*3] = [14] tensor.matmul(tensor)"
      ],
      "metadata": {
        "id": "8ef1LMMJENjB"
      }
    },
    {
      "cell_type": "code",
      "source": [
        "t"
      ],
      "metadata": {
        "colab": {
          "base_uri": "https://localhost:8080/"
        },
        "id": "wr6zKlJtBV6r",
        "outputId": "04b8448b-49b5-4027-d734-db965d4d9e93"
      },
      "execution_count": 69,
      "outputs": [
        {
          "output_type": "execute_result",
          "data": {
            "text/plain": [
              "tensor([1, 2, 3])"
            ]
          },
          "metadata": {},
          "execution_count": 69
        }
      ]
    },
    {
      "cell_type": "code",
      "source": [
        "t.shape, t.ndim"
      ],
      "metadata": {
        "colab": {
          "base_uri": "https://localhost:8080/"
        },
        "id": "6v9A6mWTEp7F",
        "outputId": "7fa00d92-1a2d-470e-c290-dd5675f07ed4"
      },
      "execution_count": 70,
      "outputs": [
        {
          "output_type": "execute_result",
          "data": {
            "text/plain": [
              "(torch.Size([3]), 1)"
            ]
          },
          "metadata": {},
          "execution_count": 70
        }
      ]
    },
    {
      "cell_type": "code",
      "source": [
        "torch.mul(t,t)"
      ],
      "metadata": {
        "colab": {
          "base_uri": "https://localhost:8080/"
        },
        "id": "sAnASJf-DsJI",
        "outputId": "93db861f-8949-4931-f6d4-9caa36c5af5b"
      },
      "execution_count": 71,
      "outputs": [
        {
          "output_type": "execute_result",
          "data": {
            "text/plain": [
              "tensor([1, 4, 9])"
            ]
          },
          "metadata": {},
          "execution_count": 71
        }
      ]
    },
    {
      "cell_type": "code",
      "source": [
        "torch.matmul(t,t) # or use use torch.mm()"
      ],
      "metadata": {
        "colab": {
          "base_uri": "https://localhost:8080/"
        },
        "id": "c9s-YvoSDyab",
        "outputId": "bcc21b8d-6cb8-4f5e-cc45-8f7ae394aff0"
      },
      "execution_count": 72,
      "outputs": [
        {
          "output_type": "execute_result",
          "data": {
            "text/plain": [
              "tensor(14)"
            ]
          },
          "metadata": {},
          "execution_count": 72
        }
      ]
    },
    {
      "cell_type": "code",
      "source": [
        "t = torch.rand(4,5)"
      ],
      "metadata": {
        "id": "MXrHYCMFG2Uo"
      },
      "execution_count": 73,
      "outputs": []
    },
    {
      "cell_type": "code",
      "source": [
        "t.mT # use mT as T will be deprecated"
      ],
      "metadata": {
        "colab": {
          "base_uri": "https://localhost:8080/"
        },
        "id": "OY8HjqymEu7F",
        "outputId": "85017830-016a-4528-dcef-40711aed9b78"
      },
      "execution_count": 74,
      "outputs": [
        {
          "output_type": "execute_result",
          "data": {
            "text/plain": [
              "tensor([[0.8852, 0.8671, 0.3731, 0.3002],\n",
              "        [0.0078, 0.8008, 0.6727, 0.5012],\n",
              "        [0.3758, 0.1135, 0.7635, 0.4953],\n",
              "        [0.3977, 0.4525, 0.7626, 0.1359],\n",
              "        [0.6090, 0.5226, 0.6559, 0.2108]])"
            ]
          },
          "metadata": {},
          "execution_count": 74
        }
      ]
    },
    {
      "cell_type": "code",
      "source": [
        "# t@t  RuntimeError: mat1 and mat2 shapes cannot be multiplied (4x5 and 4x5)"
      ],
      "metadata": {
        "id": "ASLUbQ0eGsks"
      },
      "execution_count": 75,
      "outputs": []
    },
    {
      "cell_type": "code",
      "source": [
        "t@t.T"
      ],
      "metadata": {
        "colab": {
          "base_uri": "https://localhost:8080/"
        },
        "id": "-pjSU2zDHEzB",
        "outputId": "eb318cae-dfe9-4bec-8d3f-f4b80e883b0f"
      },
      "execution_count": 76,
      "outputs": [
        {
          "output_type": "execute_result",
          "data": {
            "text/plain": [
              "tensor([[1.4538, 1.3147, 1.3251, 0.6382],\n",
              "        [1.3147, 1.8839, 1.6367, 0.8895],\n",
              "        [1.3251, 1.6367, 2.1863, 1.0692],\n",
              "        [0.6382, 0.8895, 1.0692, 0.6495]])"
            ]
          },
          "metadata": {},
          "execution_count": 76
        }
      ]
    },
    {
      "cell_type": "code",
      "source": [
        "torch.manual_seed(313)"
      ],
      "metadata": {
        "colab": {
          "base_uri": "https://localhost:8080/"
        },
        "id": "hegdkIPQHInK",
        "outputId": "c40e1426-5d39-4236-955f-6245e26c194e"
      },
      "execution_count": 77,
      "outputs": [
        {
          "output_type": "execute_result",
          "data": {
            "text/plain": [
              "<torch._C.Generator at 0x7efaf3137a90>"
            ]
          },
          "metadata": {},
          "execution_count": 77
        }
      ]
    },
    {
      "cell_type": "markdown",
      "source": [
        "Neural networks are full of matrix multiplications and dot products.\n",
        "The torch.nn.Linear() module (we'll see this in action later on), also known as a feed-forward layer or fully connected layer, implements a matrix multiplication between an input x\n",
        "and a weights matrix A. \\\\\n",
        "y=x⋅AT+b \\\\\n",
        "\n",
        "Where: \\\\\n",
        "x is the input to the layer (deep learning is a stack of layers like torch.nn.Linear() and others on top of each other). \\\\\n",
        "A is the weights matrix created by the layer, this starts out as random numbers that get adjusted as a neural network learns to better represent patterns in the data (notice the \"T\", that's because the weights matrix gets transposed).\n",
        "Note: You might also often see W or another letter like X used to showcase the weights matrix. \\\\\n",
        "b is the bias term used to slightly offset the weights and inputs.\n",
        "y is the output (a manipulation of the input in the hopes to discover patterns in it). \\\\\n",
        "y=x⋅AT+b \\\\\n",
        "This is a linear function (you may have seen something like y=mx+by=mx+b in high school or elsewhere), and can be used to draw a straight line!"
      ],
      "metadata": {
        "id": "X14RAIK9H37o"
      }
    },
    {
      "cell_type": "code",
      "source": [
        "# using nn.Linear\n",
        "torch.manual_seed(313)\n",
        "import torch.nn as nn\n",
        "\n",
        "model = nn.Linear(in_features=2,out_features=5,bias=True)\n",
        "\n",
        "x = torch.randint(1,10,(3,2)).to(dtype=torch.float32)\n",
        "output = model(x)\n",
        "\n",
        "print(output)\n",
        "\n",
        "# manual check\n",
        "w = model.weight\n",
        "b = model.bias\n",
        "print(x@w.T+b)"
      ],
      "metadata": {
        "colab": {
          "base_uri": "https://localhost:8080/"
        },
        "id": "GvCIH1xFItzZ",
        "outputId": "fef6acba-30af-459b-89e6-e6db97a5af12"
      },
      "execution_count": 78,
      "outputs": [
        {
          "output_type": "stream",
          "name": "stdout",
          "text": [
            "tensor([[ 0.2619,  3.3287,  0.3715, -2.7175, -1.5991],\n",
            "        [ 0.0150,  2.2433,  0.1015, -1.5718, -1.4270],\n",
            "        [ 0.5089,  4.4141,  0.6416, -3.8632, -1.7711]],\n",
            "       grad_fn=<AddmmBackward0>)\n",
            "tensor([[ 0.2619,  3.3287,  0.3715, -2.7175, -1.5991],\n",
            "        [ 0.0150,  2.2433,  0.1015, -1.5718, -1.4270],\n",
            "        [ 0.5089,  4.4141,  0.6416, -3.8632, -1.7711]], grad_fn=<AddBackward0>)\n"
          ]
        }
      ]
    },
    {
      "cell_type": "code",
      "source": [
        "w,b,w.dtype,b.dtype"
      ],
      "metadata": {
        "colab": {
          "base_uri": "https://localhost:8080/"
        },
        "id": "V2uqGAEqMx93",
        "outputId": "4dc159f6-e703-4a6f-e988-148510d8730b"
      },
      "execution_count": 79,
      "outputs": [
        {
          "output_type": "execute_result",
          "data": {
            "text/plain": [
              "(Parameter containing:\n",
              " tensor([[-0.1723,  0.5917],\n",
              "         [ 0.4621,  0.1613],\n",
              "         [-0.1652,  0.6005],\n",
              "         [-0.4369, -0.2718],\n",
              "         [-0.3690,  0.5659]], requires_grad=True),\n",
              " Parameter containing:\n",
              " tensor([ 0.1126,  0.2337,  0.1618,  0.4479, -0.5169], requires_grad=True),\n",
              " torch.float32,\n",
              " torch.float32)"
            ]
          },
          "metadata": {},
          "execution_count": 79
        }
      ]
    },
    {
      "cell_type": "code",
      "source": [
        "w_ = torch.tensor([[-0.1723,  0.5917],\n",
        "         [ 0.4621,  0.1613],\n",
        "         [-0.1652,  0.6005],\n",
        "         [-0.4369, -0.2718],\n",
        "         [-0.3690,  0.5659]])\n",
        "b_ = torch.tensor([ 0.1126,  0.2337,  0.1618,  0.4479, -0.5169])"
      ],
      "metadata": {
        "id": "5wt64c7lPGx9"
      },
      "execution_count": 80,
      "outputs": []
    },
    {
      "cell_type": "code",
      "source": [
        "w_,b_,w_.dtype,b_.dtype"
      ],
      "metadata": {
        "colab": {
          "base_uri": "https://localhost:8080/"
        },
        "id": "ew9ycMfXVjvd",
        "outputId": "3b4bd01f-52c3-4dd0-cb19-939aa3e887d1"
      },
      "execution_count": 81,
      "outputs": [
        {
          "output_type": "execute_result",
          "data": {
            "text/plain": [
              "(tensor([[-0.1723,  0.5917],\n",
              "         [ 0.4621,  0.1613],\n",
              "         [-0.1652,  0.6005],\n",
              "         [-0.4369, -0.2718],\n",
              "         [-0.3690,  0.5659]]),\n",
              " tensor([ 0.1126,  0.2337,  0.1618,  0.4479, -0.5169]),\n",
              " torch.float32,\n",
              " torch.float32)"
            ]
          },
          "metadata": {},
          "execution_count": 81
        }
      ]
    },
    {
      "cell_type": "code",
      "source": [
        "x@w_.T+b_"
      ],
      "metadata": {
        "colab": {
          "base_uri": "https://localhost:8080/"
        },
        "id": "D7rb0xNrTImh",
        "outputId": "bcabd124-aad4-4496-fea9-dc28018d72a0"
      },
      "execution_count": 82,
      "outputs": [
        {
          "output_type": "execute_result",
          "data": {
            "text/plain": [
              "tensor([[ 0.2622,  3.3289,  0.3716, -2.7171, -1.5991],\n",
              "        [ 0.0151,  2.2434,  0.1015, -1.5715, -1.4270],\n",
              "        [ 0.5093,  4.4144,  0.6417, -3.8627, -1.7712]])"
            ]
          },
          "metadata": {},
          "execution_count": 82
        }
      ]
    },
    {
      "cell_type": "markdown",
      "source": [
        "After manually copy pasting the same values of W and b from the linear layer parameters, the result is off by some precision"
      ],
      "metadata": {
        "id": "ue4luoiXWSql"
      }
    },
    {
      "cell_type": "code",
      "source": [
        "# Finding the min, max, mean, sum, etc (aggregation)\n",
        "t = torch.rand(5)\n",
        "t"
      ],
      "metadata": {
        "colab": {
          "base_uri": "https://localhost:8080/"
        },
        "id": "Mq_CT9vQWR1B",
        "outputId": "e45a4de1-08eb-4722-a408-f2be7bd4a036"
      },
      "execution_count": 83,
      "outputs": [
        {
          "output_type": "execute_result",
          "data": {
            "text/plain": [
              "tensor([0.9910, 0.4427, 0.9181, 0.5797, 0.2010])"
            ]
          },
          "metadata": {},
          "execution_count": 83
        }
      ]
    },
    {
      "cell_type": "code",
      "source": [
        "torch.max(t),torch.min(t),torch.mean(t),torch.median(t),torch.sum(t)"
      ],
      "metadata": {
        "colab": {
          "base_uri": "https://localhost:8080/"
        },
        "id": "TUeli938XSHI",
        "outputId": "63fb2049-cfdd-4061-93e6-be5e2d3a65e6"
      },
      "execution_count": 84,
      "outputs": [
        {
          "output_type": "execute_result",
          "data": {
            "text/plain": [
              "(tensor(0.9910),\n",
              " tensor(0.2010),\n",
              " tensor(0.6265),\n",
              " tensor(0.5797),\n",
              " tensor(3.1325))"
            ]
          },
          "metadata": {},
          "execution_count": 84
        }
      ]
    },
    {
      "cell_type": "code",
      "source": [
        "t.max(),t.min(),t.mean(),t.median(),t.sum()"
      ],
      "metadata": {
        "colab": {
          "base_uri": "https://localhost:8080/"
        },
        "id": "9lWxST1uXUCt",
        "outputId": "6be00680-d1b9-4028-e64b-a7dab659aacb"
      },
      "execution_count": 85,
      "outputs": [
        {
          "output_type": "execute_result",
          "data": {
            "text/plain": [
              "(tensor(0.9910),\n",
              " tensor(0.2010),\n",
              " tensor(0.6265),\n",
              " tensor(0.5797),\n",
              " tensor(3.1325))"
            ]
          },
          "metadata": {},
          "execution_count": 85
        }
      ]
    },
    {
      "cell_type": "markdown",
      "source": [
        "You may find some methods such as torch.mean() require tensors to be in\n",
        "torch.float32 (the most common) or another specific datatype, otherwise the\n",
        "operation will fail."
      ],
      "metadata": {
        "id": "eelRmYS7XrYg"
      }
    },
    {
      "cell_type": "code",
      "source": [
        "t"
      ],
      "metadata": {
        "colab": {
          "base_uri": "https://localhost:8080/"
        },
        "id": "7bvrlDrPXrSX",
        "outputId": "d56d627f-1d15-437c-efb7-9ad7c01f7a7c"
      },
      "execution_count": 86,
      "outputs": [
        {
          "output_type": "execute_result",
          "data": {
            "text/plain": [
              "tensor([0.9910, 0.4427, 0.9181, 0.5797, 0.2010])"
            ]
          },
          "metadata": {},
          "execution_count": 86
        }
      ]
    },
    {
      "cell_type": "code",
      "source": [
        "t.argmax(), t.argmin()"
      ],
      "metadata": {
        "colab": {
          "base_uri": "https://localhost:8080/"
        },
        "id": "f3NWIaXUXn3x",
        "outputId": "e97eb2b9-f446-40ea-ce10-a09b9ba3d464"
      },
      "execution_count": 87,
      "outputs": [
        {
          "output_type": "execute_result",
          "data": {
            "text/plain": [
              "(tensor(0), tensor(4))"
            ]
          },
          "metadata": {},
          "execution_count": 87
        }
      ]
    },
    {
      "cell_type": "code",
      "source": [
        "t = t.type(torch.float64)"
      ],
      "metadata": {
        "id": "Mfuog8D0Xzjd"
      },
      "execution_count": 88,
      "outputs": []
    },
    {
      "cell_type": "code",
      "source": [
        "t"
      ],
      "metadata": {
        "colab": {
          "base_uri": "https://localhost:8080/"
        },
        "id": "mRrN6aT0YBzt",
        "outputId": "1c922650-0ca4-4ff5-a908-109621c49582"
      },
      "execution_count": 89,
      "outputs": [
        {
          "output_type": "execute_result",
          "data": {
            "text/plain": [
              "tensor([0.9910, 0.4427, 0.9181, 0.5797, 0.2010], dtype=torch.float64)"
            ]
          },
          "metadata": {},
          "execution_count": 89
        }
      ]
    },
    {
      "cell_type": "markdown",
      "source": [
        "Different datatypes can be confusing to begin with. But think of it like this, the lower the number (e.g. 32, 16, 8), the less precise a computer stores the value. And with a lower amount of storage, this generally results in faster computation and a\n",
        "smaller overall model. Mobile-based neural networks often operate with 8-bit integers, smaller and faster to run but less accurate than their float32 counterparts. For more on\n",
        "this, I'd read up about precision in computing (wiki)."
      ],
      "metadata": {
        "id": "7CYGKEFwYQAh"
      }
    },
    {
      "cell_type": "code",
      "source": [
        "t"
      ],
      "metadata": {
        "colab": {
          "base_uri": "https://localhost:8080/"
        },
        "id": "WWjkLRyoYPkB",
        "outputId": "450d1acd-f43a-4ec6-dd69-a8dcd6566a2e"
      },
      "execution_count": 90,
      "outputs": [
        {
          "output_type": "execute_result",
          "data": {
            "text/plain": [
              "tensor([0.9910, 0.4427, 0.9181, 0.5797, 0.2010], dtype=torch.float64)"
            ]
          },
          "metadata": {},
          "execution_count": 90
        }
      ]
    },
    {
      "cell_type": "code",
      "source": [
        "t.shape"
      ],
      "metadata": {
        "colab": {
          "base_uri": "https://localhost:8080/"
        },
        "id": "4mRLqKwZYCWi",
        "outputId": "f0048a8c-eb20-4a87-dfb9-db5d7e77baa2"
      },
      "execution_count": 91,
      "outputs": [
        {
          "output_type": "execute_result",
          "data": {
            "text/plain": [
              "torch.Size([5])"
            ]
          },
          "metadata": {},
          "execution_count": 91
        }
      ]
    },
    {
      "cell_type": "code",
      "source": [
        "t.reshape(5,1)"
      ],
      "metadata": {
        "colab": {
          "base_uri": "https://localhost:8080/"
        },
        "id": "mKVYrVd8ZMPR",
        "outputId": "944ef4d7-c7cd-4e20-b964-9df06a73e134"
      },
      "execution_count": 92,
      "outputs": [
        {
          "output_type": "execute_result",
          "data": {
            "text/plain": [
              "tensor([[0.9910],\n",
              "        [0.4427],\n",
              "        [0.9181],\n",
              "        [0.5797],\n",
              "        [0.2010]], dtype=torch.float64)"
            ]
          },
          "metadata": {},
          "execution_count": 92
        }
      ]
    },
    {
      "cell_type": "code",
      "source": [
        "t.view(5,-1)"
      ],
      "metadata": {
        "colab": {
          "base_uri": "https://localhost:8080/"
        },
        "id": "OqS60dDoZO-0",
        "outputId": "33e74e82-b418-4f8f-f9f3-e1ae6375c97f"
      },
      "execution_count": 93,
      "outputs": [
        {
          "output_type": "execute_result",
          "data": {
            "text/plain": [
              "tensor([[0.9910],\n",
              "        [0.4427],\n",
              "        [0.9181],\n",
              "        [0.5797],\n",
              "        [0.2010]], dtype=torch.float64)"
            ]
          },
          "metadata": {},
          "execution_count": 93
        }
      ]
    },
    {
      "cell_type": "markdown",
      "source": [
        "Remember though, changing the view of a tensor with torch.view() really only creates a\n",
        "new view of the same tensor."
      ],
      "metadata": {
        "id": "8CIbXembZnEV"
      }
    },
    {
      "cell_type": "code",
      "source": [
        "t"
      ],
      "metadata": {
        "colab": {
          "base_uri": "https://localhost:8080/"
        },
        "id": "NzUet1ikZbra",
        "outputId": "d4d18422-7fc3-458a-f586-f3bea6cdb697"
      },
      "execution_count": 94,
      "outputs": [
        {
          "output_type": "execute_result",
          "data": {
            "text/plain": [
              "tensor([0.9910, 0.4427, 0.9181, 0.5797, 0.2010], dtype=torch.float64)"
            ]
          },
          "metadata": {},
          "execution_count": 94
        }
      ]
    },
    {
      "cell_type": "markdown",
      "source": [
        "![image.png](data:image/png;base64,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)"
      ],
      "metadata": {
        "id": "CzLYuYcdaQmw"
      }
    },
    {
      "cell_type": "code",
      "source": [
        "torch.stack([t,t,t],dim=0)"
      ],
      "metadata": {
        "colab": {
          "base_uri": "https://localhost:8080/"
        },
        "id": "4cxIvR2BaGcu",
        "outputId": "0805323a-f9df-4dd6-bf55-b70b87f40c32"
      },
      "execution_count": 95,
      "outputs": [
        {
          "output_type": "execute_result",
          "data": {
            "text/plain": [
              "tensor([[0.9910, 0.4427, 0.9181, 0.5797, 0.2010],\n",
              "        [0.9910, 0.4427, 0.9181, 0.5797, 0.2010],\n",
              "        [0.9910, 0.4427, 0.9181, 0.5797, 0.2010]], dtype=torch.float64)"
            ]
          },
          "metadata": {},
          "execution_count": 95
        }
      ]
    },
    {
      "cell_type": "code",
      "source": [
        "torch.stack([t,t,t],dim=1)"
      ],
      "metadata": {
        "colab": {
          "base_uri": "https://localhost:8080/"
        },
        "id": "oSOJ9j0GaXpY",
        "outputId": "61a37917-d3d5-450e-9117-ebf1778cf08e"
      },
      "execution_count": 96,
      "outputs": [
        {
          "output_type": "execute_result",
          "data": {
            "text/plain": [
              "tensor([[0.9910, 0.9910, 0.9910],\n",
              "        [0.4427, 0.4427, 0.4427],\n",
              "        [0.9181, 0.9181, 0.9181],\n",
              "        [0.5797, 0.5797, 0.5797],\n",
              "        [0.2010, 0.2010, 0.2010]], dtype=torch.float64)"
            ]
          },
          "metadata": {},
          "execution_count": 96
        }
      ]
    },
    {
      "cell_type": "code",
      "source": [
        "t_ = torch.rand(1,3,224,224,1)\n",
        "t_.shape"
      ],
      "metadata": {
        "colab": {
          "base_uri": "https://localhost:8080/"
        },
        "id": "vp54gr3sah4j",
        "outputId": "939536d3-48dd-45a6-acd9-fc04848fec5f"
      },
      "execution_count": 97,
      "outputs": [
        {
          "output_type": "execute_result",
          "data": {
            "text/plain": [
              "torch.Size([1, 3, 224, 224, 1])"
            ]
          },
          "metadata": {},
          "execution_count": 97
        }
      ]
    },
    {
      "cell_type": "code",
      "source": [
        "t_ = t_.squeeze()\n",
        "t_.shape"
      ],
      "metadata": {
        "colab": {
          "base_uri": "https://localhost:8080/"
        },
        "id": "lkgbFWijarXq",
        "outputId": "cb4107c4-c75a-45d3-bddf-cb93ddc7b8bb"
      },
      "execution_count": 98,
      "outputs": [
        {
          "output_type": "execute_result",
          "data": {
            "text/plain": [
              "torch.Size([3, 224, 224])"
            ]
          },
          "metadata": {},
          "execution_count": 98
        }
      ]
    },
    {
      "cell_type": "code",
      "source": [
        "t_.unsqueeze(dim=0).shape, t_.unsqueeze(dim=-4).shape"
      ],
      "metadata": {
        "colab": {
          "base_uri": "https://localhost:8080/"
        },
        "id": "PdjHQliSaxQT",
        "outputId": "cd4c2353-27e6-4093-9a49-79e2e938300c"
      },
      "execution_count": 99,
      "outputs": [
        {
          "output_type": "execute_result",
          "data": {
            "text/plain": [
              "(torch.Size([1, 3, 224, 224]), torch.Size([1, 3, 224, 224]))"
            ]
          },
          "metadata": {},
          "execution_count": 99
        }
      ]
    },
    {
      "cell_type": "code",
      "source": [
        "t_.unsqueeze(dim=1).shape, t_.unsqueeze(dim=-3).shape"
      ],
      "metadata": {
        "colab": {
          "base_uri": "https://localhost:8080/"
        },
        "id": "fVA3Cj6na8xp",
        "outputId": "d7313443-7a02-42ff-e439-5949ab671e65"
      },
      "execution_count": 100,
      "outputs": [
        {
          "output_type": "execute_result",
          "data": {
            "text/plain": [
              "(torch.Size([3, 1, 224, 224]), torch.Size([3, 1, 224, 224]))"
            ]
          },
          "metadata": {},
          "execution_count": 100
        }
      ]
    },
    {
      "cell_type": "code",
      "source": [
        "t_.unsqueeze(dim=2).shape, t_.unsqueeze(dim=-2).shape"
      ],
      "metadata": {
        "colab": {
          "base_uri": "https://localhost:8080/"
        },
        "id": "7vKQsXStbNnb",
        "outputId": "1b57ddcd-7d15-44b1-966b-3dc6c5083391"
      },
      "execution_count": 101,
      "outputs": [
        {
          "output_type": "execute_result",
          "data": {
            "text/plain": [
              "(torch.Size([3, 224, 1, 224]), torch.Size([3, 224, 1, 224]))"
            ]
          },
          "metadata": {},
          "execution_count": 101
        }
      ]
    },
    {
      "cell_type": "code",
      "source": [
        "t_.unsqueeze(dim=3).shape, t_.unsqueeze(dim=-1).shape"
      ],
      "metadata": {
        "colab": {
          "base_uri": "https://localhost:8080/"
        },
        "id": "bHM6tzTibO7B",
        "outputId": "c6468baf-846e-4cda-b9f2-29cc721fd5ff"
      },
      "execution_count": 102,
      "outputs": [
        {
          "output_type": "execute_result",
          "data": {
            "text/plain": [
              "(torch.Size([3, 224, 224, 1]), torch.Size([3, 224, 224, 1]))"
            ]
          },
          "metadata": {},
          "execution_count": 102
        }
      ]
    },
    {
      "cell_type": "code",
      "source": [
        "x = torch.randn(2, 3, 5)\n",
        "x.size()"
      ],
      "metadata": {
        "colab": {
          "base_uri": "https://localhost:8080/"
        },
        "id": "yD-cKb4HbV1i",
        "outputId": "40e449c5-1004-49e8-fa1a-9ff827462971"
      },
      "execution_count": 103,
      "outputs": [
        {
          "output_type": "execute_result",
          "data": {
            "text/plain": [
              "torch.Size([2, 3, 5])"
            ]
          },
          "metadata": {},
          "execution_count": 103
        }
      ]
    },
    {
      "cell_type": "code",
      "source": [
        "torch.permute(x, (1, 2, 0)).size()"
      ],
      "metadata": {
        "colab": {
          "base_uri": "https://localhost:8080/"
        },
        "id": "j-hyjHMuchME",
        "outputId": "77799bc4-49a5-489a-d44d-4d2db300d3a7"
      },
      "execution_count": 104,
      "outputs": [
        {
          "output_type": "execute_result",
          "data": {
            "text/plain": [
              "torch.Size([3, 5, 2])"
            ]
          },
          "metadata": {},
          "execution_count": 104
        }
      ]
    },
    {
      "cell_type": "markdown",
      "source": [
        "Because permuting returns a view (shares the same data as the original), the\n",
        "values in the permuted tensor will be the same as the original tensor and if you change\n",
        "the values in the view, it will change the values of the original."
      ],
      "metadata": {
        "id": "LqTc0KzHc3yU"
      }
    },
    {
      "cell_type": "code",
      "source": [
        "t = torch.arange(1, 19).reshape(2, 3, 3)"
      ],
      "metadata": {
        "id": "L6vI2namci-o"
      },
      "execution_count": 105,
      "outputs": []
    },
    {
      "cell_type": "code",
      "source": [
        "t"
      ],
      "metadata": {
        "colab": {
          "base_uri": "https://localhost:8080/"
        },
        "id": "ezGs_r68c-S9",
        "outputId": "d40abebb-0dcb-4bee-d551-14a2c4ad5502"
      },
      "execution_count": 106,
      "outputs": [
        {
          "output_type": "execute_result",
          "data": {
            "text/plain": [
              "tensor([[[ 1,  2,  3],\n",
              "         [ 4,  5,  6],\n",
              "         [ 7,  8,  9]],\n",
              "\n",
              "        [[10, 11, 12],\n",
              "         [13, 14, 15],\n",
              "         [16, 17, 18]]])"
            ]
          },
          "metadata": {},
          "execution_count": 106
        }
      ]
    },
    {
      "cell_type": "code",
      "source": [
        "t.shape"
      ],
      "metadata": {
        "colab": {
          "base_uri": "https://localhost:8080/"
        },
        "id": "qIdbN9_ldC1S",
        "outputId": "cf949e6b-d952-4a22-dd29-88965142487c"
      },
      "execution_count": 107,
      "outputs": [
        {
          "output_type": "execute_result",
          "data": {
            "text/plain": [
              "torch.Size([2, 3, 3])"
            ]
          },
          "metadata": {},
          "execution_count": 107
        }
      ]
    },
    {
      "cell_type": "code",
      "source": [
        "# first selects a 2d matrix, second a row vector and third an element\n",
        "t[0]"
      ],
      "metadata": {
        "colab": {
          "base_uri": "https://localhost:8080/"
        },
        "id": "3YvFk_Z_dFpm",
        "outputId": "da23318a-684d-4cad-f112-28c729d356a1"
      },
      "execution_count": 108,
      "outputs": [
        {
          "output_type": "execute_result",
          "data": {
            "text/plain": [
              "tensor([[1, 2, 3],\n",
              "        [4, 5, 6],\n",
              "        [7, 8, 9]])"
            ]
          },
          "metadata": {},
          "execution_count": 108
        }
      ]
    },
    {
      "cell_type": "code",
      "source": [
        "t[0][0]"
      ],
      "metadata": {
        "colab": {
          "base_uri": "https://localhost:8080/"
        },
        "id": "5Behq7mrdMP8",
        "outputId": "fa6c8fbd-bc2b-4f5b-fac2-3f7e40687eb8"
      },
      "execution_count": 109,
      "outputs": [
        {
          "output_type": "execute_result",
          "data": {
            "text/plain": [
              "tensor([1, 2, 3])"
            ]
          },
          "metadata": {},
          "execution_count": 109
        }
      ]
    },
    {
      "cell_type": "code",
      "source": [
        "t[0][0][0]"
      ],
      "metadata": {
        "colab": {
          "base_uri": "https://localhost:8080/"
        },
        "id": "yWCI-7t7dgdT",
        "outputId": "38807179-a9d6-4282-f13b-165c0eea5c42"
      },
      "execution_count": 110,
      "outputs": [
        {
          "output_type": "execute_result",
          "data": {
            "text/plain": [
              "tensor(1)"
            ]
          },
          "metadata": {},
          "execution_count": 110
        }
      ]
    },
    {
      "cell_type": "code",
      "source": [
        "t[0][:,0] # means all rows in t[0] matrix(2d) and pick col 0"
      ],
      "metadata": {
        "colab": {
          "base_uri": "https://localhost:8080/"
        },
        "id": "JJXD47l-dhgv",
        "outputId": "17dda821-2360-4d78-e243-5fd4f2fa0777"
      },
      "execution_count": 111,
      "outputs": [
        {
          "output_type": "execute_result",
          "data": {
            "text/plain": [
              "tensor([1, 4, 7])"
            ]
          },
          "metadata": {},
          "execution_count": 111
        }
      ]
    },
    {
      "cell_type": "code",
      "source": [
        "t"
      ],
      "metadata": {
        "colab": {
          "base_uri": "https://localhost:8080/"
        },
        "id": "w40GXsGTdmG_",
        "outputId": "40dfd04a-bea4-47d7-d872-df12820d241a"
      },
      "execution_count": 112,
      "outputs": [
        {
          "output_type": "execute_result",
          "data": {
            "text/plain": [
              "tensor([[[ 1,  2,  3],\n",
              "         [ 4,  5,  6],\n",
              "         [ 7,  8,  9]],\n",
              "\n",
              "        [[10, 11, 12],\n",
              "         [13, 14, 15],\n",
              "         [16, 17, 18]]])"
            ]
          },
          "metadata": {},
          "execution_count": 112
        }
      ]
    },
    {
      "cell_type": "code",
      "source": [
        "t[:,:,0] # means select all 2d maxtrices, select rows, select cols"
      ],
      "metadata": {
        "colab": {
          "base_uri": "https://localhost:8080/"
        },
        "id": "53VR-JXHdwyH",
        "outputId": "94e9ab6b-be13-43d6-8c5e-67958dd1d09d"
      },
      "execution_count": 113,
      "outputs": [
        {
          "output_type": "execute_result",
          "data": {
            "text/plain": [
              "tensor([[ 1,  4,  7],\n",
              "        [10, 13, 16]])"
            ]
          },
          "metadata": {},
          "execution_count": 113
        }
      ]
    },
    {
      "cell_type": "markdown",
      "source": [
        "Indexing can be quite confusing to begin with, especially with larger tensors (I still have to try\n",
        "indexing multiple times to get it right). But with a bit of practice and following the data\n",
        "explorer's motto (*visualize, visualize, visualize*), you'll start to get the hang of it."
      ],
      "metadata": {
        "id": "16DMAsSZe7MR"
      }
    },
    {
      "cell_type": "code",
      "source": [
        "import numpy as np\n",
        "\n",
        "arr = np.array([1,2,3])\n",
        "t = torch.from_numpy(arr)\n",
        "t, t.dtype, t.shape"
      ],
      "metadata": {
        "colab": {
          "base_uri": "https://localhost:8080/"
        },
        "id": "nFIpQEbdd6tu",
        "outputId": "1ce5f861-a880-4506-cfba-e7a9dc72eebe"
      },
      "execution_count": 114,
      "outputs": [
        {
          "output_type": "execute_result",
          "data": {
            "text/plain": [
              "(tensor([1, 2, 3]), torch.int64, torch.Size([3]))"
            ]
          },
          "metadata": {},
          "execution_count": 114
        }
      ]
    },
    {
      "cell_type": "markdown",
      "source": [
        "By default, NumPy arrays are created with the datatype float64 and if you\n",
        "convert it to a PyTorch tensor, it'll keep the same datatype (as above). \\\\\n",
        "Because we reassigned tensor above, if you change the tensor, the array stays the same."
      ],
      "metadata": {
        "id": "W9CKhh4cfRw0"
      }
    },
    {
      "cell_type": "code",
      "source": [
        "t+1"
      ],
      "metadata": {
        "colab": {
          "base_uri": "https://localhost:8080/"
        },
        "id": "vDCgbv6RfG6X",
        "outputId": "8cd1cd92-ff22-4b8e-b849-70e3d1f39c03"
      },
      "execution_count": 115,
      "outputs": [
        {
          "output_type": "execute_result",
          "data": {
            "text/plain": [
              "tensor([2, 3, 4])"
            ]
          },
          "metadata": {},
          "execution_count": 115
        }
      ]
    },
    {
      "cell_type": "code",
      "source": [
        "arr"
      ],
      "metadata": {
        "colab": {
          "base_uri": "https://localhost:8080/"
        },
        "id": "olURXACvfmml",
        "outputId": "f32cbf58-b87b-4bc7-e000-fb48f7dfc069"
      },
      "execution_count": 116,
      "outputs": [
        {
          "output_type": "execute_result",
          "data": {
            "text/plain": [
              "array([1, 2, 3])"
            ]
          },
          "metadata": {},
          "execution_count": 116
        }
      ]
    },
    {
      "cell_type": "code",
      "source": [
        "t.numpy(), t.dtype"
      ],
      "metadata": {
        "colab": {
          "base_uri": "https://localhost:8080/"
        },
        "id": "yvjEZLhlfnTQ",
        "outputId": "0d7c7253-5473-4d53-caff-a401cc4d722d"
      },
      "execution_count": 117,
      "outputs": [
        {
          "output_type": "execute_result",
          "data": {
            "text/plain": [
              "(array([1, 2, 3]), torch.int64)"
            ]
          },
          "metadata": {},
          "execution_count": 117
        }
      ]
    },
    {
      "cell_type": "markdown",
      "source": [
        "Have to reset the seed every time a new rand() is called  "
      ],
      "metadata": {
        "id": "hfWjgGmEgK1H"
      }
    },
    {
      "cell_type": "code",
      "source": [
        "!nvidia-smi"
      ],
      "metadata": {
        "colab": {
          "base_uri": "https://localhost:8080/"
        },
        "id": "ljmU3OuxfpyJ",
        "outputId": "7c129d72-744e-4b84-b84b-77f78754ae29"
      },
      "execution_count": 118,
      "outputs": [
        {
          "output_type": "stream",
          "name": "stdout",
          "text": [
            "Sun Sep 10 09:53:18 2023       \n",
            "+-----------------------------------------------------------------------------+\n",
            "| NVIDIA-SMI 525.105.17   Driver Version: 525.105.17   CUDA Version: 12.0     |\n",
            "|-------------------------------+----------------------+----------------------+\n",
            "| GPU  Name        Persistence-M| Bus-Id        Disp.A | Volatile Uncorr. ECC |\n",
            "| Fan  Temp  Perf  Pwr:Usage/Cap|         Memory-Usage | GPU-Util  Compute M. |\n",
            "|                               |                      |               MIG M. |\n",
            "|===============================+======================+======================|\n",
            "|   0  Tesla T4            Off  | 00000000:00:04.0 Off |                    0 |\n",
            "| N/A   45C    P8     9W /  70W |      3MiB / 15360MiB |      0%      Default |\n",
            "|                               |                      |                  N/A |\n",
            "+-------------------------------+----------------------+----------------------+\n",
            "                                                                               \n",
            "+-----------------------------------------------------------------------------+\n",
            "| Processes:                                                                  |\n",
            "|  GPU   GI   CI        PID   Type   Process name                  GPU Memory |\n",
            "|        ID   ID                                                   Usage      |\n",
            "|=============================================================================|\n",
            "|  No running processes found                                                 |\n",
            "+-----------------------------------------------------------------------------+\n"
          ]
        }
      ]
    },
    {
      "cell_type": "code",
      "source": [
        "device = \"cuda\" if torch.cuda.is_available() else \"cpu\"\n",
        "if device == torch.device(\"cuda\"):\n",
        "  model = model.to(\"cuda\")"
      ],
      "metadata": {
        "id": "sjccDOsxgg0N"
      },
      "execution_count": 122,
      "outputs": []
    },
    {
      "cell_type": "code",
      "source": [
        "torch.cuda.device_count()"
      ],
      "metadata": {
        "colab": {
          "base_uri": "https://localhost:8080/"
        },
        "id": "HEDelMCYgtJE",
        "outputId": "02324891-069b-4cb2-ed8d-6ce1ffa1c454"
      },
      "execution_count": 123,
      "outputs": [
        {
          "output_type": "execute_result",
          "data": {
            "text/plain": [
              "1"
            ]
          },
          "metadata": {},
          "execution_count": 123
        }
      ]
    },
    {
      "cell_type": "code",
      "source": [
        "dir(torch.cuda)"
      ],
      "metadata": {
        "id": "L7PI8xa1hDsN"
      },
      "execution_count": null,
      "outputs": []
    },
    {
      "cell_type": "markdown",
      "source": [
        "If you have a GPU available, the above code will output something like: \\\\\n",
        "\n",
        "```\n",
        "tensor([1, 2, 3]) cpu\n",
        "tensor([1, 2, 3], device='cuda:0')\n",
        "```\n",
        "Notice the second tensor has device='cuda:0', this means it's stored on the 0th GPU available (GPUs are 0 indexed, if two GPUs were available, they'd be 'cuda:0' and 'cuda:1' respectively, up to 'cuda:n')."
      ],
      "metadata": {
        "id": "RhnZrqGdhcXF"
      }
    },
    {
      "cell_type": "markdown",
      "source": [
        "What if we wanted to move the tensor back to CPU? \\\\\n",
        "For example, you'll want to do this if you want to interact with your tensors with NumPy \\\\\n",
        "(NumPy does not leverage the GPU).\n",
        "\n",
        "To get a tensor back to CPU and usable with NumPy we can use Tensor.cpu(). \\\\\n",
        "\n",
        "```\n",
        "tensor_back_on_cpu = tensor_on_gpu.cpu().numpy()\n",
        "```\n",
        "\n"
      ],
      "metadata": {
        "id": "bBpi_7E8hywJ"
      }
    },
    {
      "cell_type": "code",
      "source": [
        "# excercise\n",
        "\n",
        "torch.cuda.manual_seed(0)\n",
        "t = torch.rand(7,7)\n",
        "t"
      ],
      "metadata": {
        "colab": {
          "base_uri": "https://localhost:8080/"
        },
        "id": "onRQmFYUh7Ba",
        "outputId": "4b5eba0f-fc69-4d96-cde6-26fb9cbebc1c"
      },
      "execution_count": 136,
      "outputs": [
        {
          "output_type": "execute_result",
          "data": {
            "text/plain": [
              "tensor([[0.8964, 0.4556, 0.6323, 0.3489, 0.4017, 0.0223, 0.1689],\n",
              "        [0.2939, 0.5185, 0.6977, 0.8000, 0.1610, 0.2823, 0.6816],\n",
              "        [0.9152, 0.3971, 0.8742, 0.4194, 0.5529, 0.9527, 0.0362],\n",
              "        [0.1852, 0.3734, 0.3051, 0.9320, 0.1759, 0.2698, 0.1507],\n",
              "        [0.0317, 0.2081, 0.9298, 0.7231, 0.7423, 0.5263, 0.2437],\n",
              "        [0.5846, 0.0332, 0.1387, 0.2422, 0.8155, 0.7932, 0.2783],\n",
              "        [0.4820, 0.8198, 0.9971, 0.6984, 0.5675, 0.8352, 0.2056]])"
            ]
          },
          "metadata": {},
          "execution_count": 136
        }
      ]
    },
    {
      "cell_type": "code",
      "source": [
        "torch.cuda.manual_seed(0)\n",
        "z = torch.rand(1,7)"
      ],
      "metadata": {
        "id": "BUFUm7oHhLYE"
      },
      "execution_count": 137,
      "outputs": []
    },
    {
      "cell_type": "code",
      "source": [
        "t@z.T"
      ],
      "metadata": {
        "colab": {
          "base_uri": "https://localhost:8080/"
        },
        "id": "M858h5l4ifKv",
        "outputId": "69c9988e-9995-4543-f493-c8db4e4ba748"
      },
      "execution_count": 138,
      "outputs": [
        {
          "output_type": "execute_result",
          "data": {
            "text/plain": [
              "tensor([[1.1061],\n",
              "        [0.9868],\n",
              "        [1.8999],\n",
              "        [0.7716],\n",
              "        [1.3174],\n",
              "        [1.6353],\n",
              "        [1.7395]])"
            ]
          },
          "metadata": {},
          "execution_count": 138
        }
      ]
    },
    {
      "cell_type": "code",
      "source": [
        "torch.cuda.manual_seed(7)\n",
        "\n",
        "t = torch.rand(1, 1, 1, 10)\n",
        "t.shape"
      ],
      "metadata": {
        "colab": {
          "base_uri": "https://localhost:8080/"
        },
        "id": "fip8Zuooi2CZ",
        "outputId": "442f53ed-5357-48fb-cf86-e32c4fb132eb"
      },
      "execution_count": 149,
      "outputs": [
        {
          "output_type": "execute_result",
          "data": {
            "text/plain": [
              "torch.Size([1, 1, 1, 10])"
            ]
          },
          "metadata": {},
          "execution_count": 149
        }
      ]
    },
    {
      "cell_type": "code",
      "source": [
        "t = t.squeeze()\n",
        "t.shape"
      ],
      "metadata": {
        "colab": {
          "base_uri": "https://localhost:8080/"
        },
        "id": "g5QVvVnXjopk",
        "outputId": "0c01b85b-810d-41b7-d93a-29767b00734b"
      },
      "execution_count": 150,
      "outputs": [
        {
          "output_type": "execute_result",
          "data": {
            "text/plain": [
              "torch.Size([10])"
            ]
          },
          "metadata": {},
          "execution_count": 150
        }
      ]
    }
  ]
}